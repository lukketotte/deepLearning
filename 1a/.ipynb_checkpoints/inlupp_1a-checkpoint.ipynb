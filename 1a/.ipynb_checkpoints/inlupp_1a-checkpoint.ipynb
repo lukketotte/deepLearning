{
 "cells": [
  {
   "cell_type": "markdown",
   "metadata": {},
   "source": [
    "# Assignment 1a\n"
   ]
  },
  {
   "cell_type": "code",
   "execution_count": 2,
   "metadata": {},
   "outputs": [],
   "source": [
    "import numpy as np"
   ]
  },
  {
   "cell_type": "markdown",
   "metadata": {},
   "source": [
    "## Exercise 1.1\n",
    "For $dJ/db$,\n",
    "$$\n",
    "\\begin{aligned}\n",
    "\\frac{dJ}{db} = \\frac{1}{n}\\sum_{i = 1}^n \\frac{\\partial J}{\\partial z_i}\\frac{dz_i}{db},\n",
    "\\end{aligned}\n",
    "$$\n",
    "and for $dJ/dw_j$,\n",
    "$$\n",
    "\\begin{aligned}\n",
    "\\frac{dJ}{dw_j} = \\frac{1}{n}\\sum_{i = 1}^n \\frac{\\partial J}{\\partial z_i}\\frac{d z_i}{d w_j}\n",
    "\\end{aligned}\n",
    "$$"
   ]
  },
  {
   "cell_type": "markdown",
   "metadata": {},
   "source": [
    "## Exercise 1.2\n",
    "\n",
    "$$\n",
    "\\begin{aligned}\n",
    "\\frac{\\partial J}{\\partial z_i} & = \\frac{1}{n}\\left( -y_i \\frac{\\partial}{\\partial z_i}\\left( \\ln \\frac{1}{1 + e^{-z_i}}\\right) - (1 - y_i)\\frac{\\partial}{\\partial z_i}\\left( \\ln \\frac{e^{-z_i}}{1 + e^{-z_i}}\\right)\\right) \\nonumber \\\\\n",
    "&= \\frac{1}{n}\\left( y_i \\frac{1}{1+e^{-z_i}} \\frac{\\partial}{\\partial z_i}e^{-z_i} - (1-y_i)\\left( \\frac{\\partial}{\\partial z_i} \\ln e^{-z_i} - \\frac{\\partial}{\\partial z_i} \\ln \\big(1 + e^{-z_i}\\big)\\right)\\right) \\nonumber \\\\\n",
    "&=\\frac{1}{n}\\left(-y_i \\frac{e^{-z_i}}{1+e^{-z_i}} + (1-y_i)\\left(1 - \\frac{e^{-z_i}}{1 + e^{-z_i}} \\right)\\right) \\nonumber \\\\\n",
    "&=\\frac{1}{n}\\left(\\frac{e^{-z_i}}{1+e^{-z_i}} \\big(-y_i - (1-y_i) \\big) + (1-y_i) \\big)\\right) = \\frac{1}{n} \\left( - \\frac{e^{-z_i}}{1 + e^{-z_i}} + 1 - y_i \\right) \\nonumber \\\\\n",
    "&= \\frac{1}{n}\\left( - \\left( 1 - \\frac{1}{1+e^{-z_i}} \\right) + 1 -y_i \\right) = \\frac{1}{n}\\left( \\frac{1}{1+e^{-z_i}} - y_i\\right).\n",
    "\\end{aligned}\n",
    "$$\n",
    "\n",
    "Next, \n",
    "\n",
    "$$\n",
    "\\begin{aligned}\n",
    "\\frac{d z_i}{d b} = \\left[ \\frac{\\partial}{\\partial b} \\left(\\mathbf{w}^T\\mathbf{x_1} + b\\right),  \\ldots, \\frac{\\partial}{\\partial b} \\left( \\mathbf{w}^T\\mathbf{x_n} + b \\right) \\right] = [1, \\ldots , 1].\n",
    "\\end{aligned}\n",
    "$$\n",
    "\n",
    "And finally \n",
    "$$\n",
    "\\begin{aligned}\n",
    "\\frac{dz_i}{dw_j} = \\left[ x_{1j}, x_{2j}, \\ldots, x_{nj} \\right]\n",
    "\\end{aligned}\n",
    "$$"
   ]
  },
  {
   "cell_type": "markdown",
   "metadata": {},
   "source": [
    "## Exercise 1.3"
   ]
  },
  {
   "cell_type": "code",
   "execution_count": 101,
   "metadata": {},
   "outputs": [],
   "source": [
    "def init(p, n, random = True):\n",
    "    # p: numb of vars\n",
    "    # returns: w, b\n",
    "    if random:\n",
    "        return(np.random.rand(p, 1), np.repeat(np.random.rand(1), n))\n",
    "    else:\n",
    "        return(np.zeros([p, 1]), np.zeros(n))"
   ]
  },
  {
   "cell_type": "markdown",
   "metadata": {},
   "source": [
    "The update steps of the gradient descent will be\n",
    "$$\n",
    "\\begin{aligned}\n",
    "w_j := w_j - \\eta \\frac{1}{n}\\sum_{i=1}^n\\left( \\frac{1}{1+e^{-z_i}} - y_i\\right)x_{ij}  \\\\\n",
    "b := b - \\eta \\frac{1}{n}\\sum_{i=1}^n\\left( \\frac{1}{1+e^{-z_i}} - y_i\\right)\n",
    "\\end{aligned}\n",
    "$$"
   ]
  },
  {
   "cell_type": "code",
   "execution_count": 222,
   "metadata": {},
   "outputs": [],
   "source": [
    "def cost(y, x, w, b):\n",
    "    # eq (1a) in matrix form\n",
    "    z = np.matmul(w.T, x) + b\n",
    "    # eq (1b)\n",
    "    p = (1 + np.exp(-z))**(-1)\n",
    "    # eq (1c)\n",
    "    L = -y * np.log(p) - (1-y) * np.log(1-p)\n",
    "    # eq (1d)\n",
    "    return(1/y.size * np.sum(L))\n",
    "\n",
    "def update_w(w, step_size, x, y, b):\n",
    "    update_mat = (1 + np.exp(-(np.matmul(w.T, x) + b)))**(-1) - y\n",
    "    w = w- step_size * 1/y.size * np.sum(np.matmul(update_mat, x.T))\n",
    "    return(w)\n",
    "\n",
    "def update_b(b, step_size, x, y, w):\n",
    "    update_mat = (1 + np.exp(-(np.matmul(w.T, x) + b)))**(-1) - y\n",
    "    b = b - step_size * 1/y.size * np.sum(update_mat)\n",
    "    return(b)\n",
    "\n",
    "def optimize(y, x, epochs = 2000, stop = .0001, \n",
    "             step_size = 0.001, random_init = True):\n",
    "    w_new, b_new = init(x.shape[0], x.shape[1], random = random_init)\n",
    "    cost_new = cost(y, x, w_new, b_new)\n",
    "    for i in range(epochs):\n",
    "        w_old, b_old, cost_old = w_new, b_new, cost_new\n",
    "        w_new = update_w(w_old, step_size, x, y, b_old)\n",
    "        b_new = update_b(b_old, step_size, x, y, w_old)\n",
    "        cost_new = cost(y, x, w_new, b_new)\n",
    "        if abs(cost_new - cost_old) <= stop:\n",
    "            print(\"Stopping criterion met, iteration {}\".format(i))\n",
    "            break\n",
    "    if abs(cost_new - cost_old) >= stop:\n",
    "        print(\"Max epochs reached\")\n",
    "    return(w_new, b_new)    "
   ]
  },
  {
   "cell_type": "markdown",
   "metadata": {},
   "source": [
    "To apply the model, I will simulate data for $p = 3$."
   ]
  },
  {
   "cell_type": "code",
   "execution_count": 210,
   "metadata": {},
   "outputs": [],
   "source": [
    "np.random.seed(12)\n",
    "mean_vec = [1, 5, 3]\n",
    "cov_mat = np.diag([2.2, 15.3, 82.5])\n",
    "n = 100\n",
    "# as defined in the task, the complete datamatrix is p x n rather than n x p\n",
    "x = np.random.multivariate_normal(mean_vec, cov_mat, n).T\n",
    "coefs = np.array([2, -1.2, 0.5]).reshape(3,1)\n",
    "\n",
    "z = 1 + np.matmul(x.T ,coefs)\n",
    "p = 1/(1 + np.exp(-z))\n",
    "y = np.random.binomial(1, p.flatten(), n)"
   ]
  },
  {
   "cell_type": "code",
   "execution_count": 223,
   "metadata": {},
   "outputs": [
    {
     "name": "stdout",
     "output_type": "stream",
     "text": [
      "Max epochs reached\n"
     ]
    }
   ],
   "source": [
    "w, b = optimize(y, x, epochs = 5000, stop = .00000001, random_init = False)"
   ]
  },
  {
   "cell_type": "code",
   "execution_count": 224,
   "metadata": {},
   "outputs": [
    {
     "data": {
      "text/plain": [
       "(array([0.03541994, 0.03541994, 0.03541994]), -0.47327617552528284)"
      ]
     },
     "execution_count": 224,
     "metadata": {},
     "output_type": "execute_result"
    }
   ],
   "source": [
    "w, b[1]"
   ]
  },
  {
   "cell_type": "code",
   "execution_count": 221,
   "metadata": {},
   "outputs": [
    {
     "data": {
      "text/plain": [
       "array([[0., 0., 0.],\n",
       "       [0., 0., 0.]])"
      ]
     },
     "execution_count": 221,
     "metadata": {},
     "output_type": "execute_result"
    }
   ],
   "source": [
    "np.zeros([2,3])"
   ]
  },
  {
   "cell_type": "code",
   "execution_count": null,
   "metadata": {},
   "outputs": [],
   "source": []
  }
 ],
 "metadata": {
  "kernelspec": {
   "display_name": "Python 3",
   "language": "python",
   "name": "python3"
  },
  "language_info": {
   "codemirror_mode": {
    "name": "ipython",
    "version": 3
   },
   "file_extension": ".py",
   "mimetype": "text/x-python",
   "name": "python",
   "nbconvert_exporter": "python",
   "pygments_lexer": "ipython3",
   "version": "3.6.5"
  }
 },
 "nbformat": 4,
 "nbformat_minor": 2
}
