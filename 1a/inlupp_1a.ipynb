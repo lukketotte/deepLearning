{
 "cells": [
  {
   "cell_type": "markdown",
   "metadata": {},
   "source": [
    "# Assignment 1a\n"
   ]
  },
  {
   "cell_type": "code",
   "execution_count": 4,
   "metadata": {},
   "outputs": [],
   "source": [
    "import numpy as np"
   ]
  },
  {
   "cell_type": "markdown",
   "metadata": {},
   "source": [
    "## Exercise 1.1\n",
    "For $dJ/db$,\n",
    "$$\n",
    "\\begin{aligned}\n",
    "\\frac{dJ}{db} = \\frac{1}{n}\\sum_{i = 1}^n \\frac{\\partial J}{\\partial z_i}\\frac{dz_i}{db},\n",
    "\\end{aligned}\n",
    "$$\n",
    "and for $dJ/dw_j$,\n",
    "$$\n",
    "\\begin{aligned}\n",
    "\\frac{dJ}{dw_j} = \\frac{1}{n}\\sum_{i = 1}^n \\frac{\\partial J}{\\partial z_i}\\frac{d z_i}{d w_j}\n",
    "\\end{aligned}\n",
    "$$"
   ]
  },
  {
   "cell_type": "markdown",
   "metadata": {},
   "source": [
    "## Exercise 1.2\n",
    "\n",
    "$$\n",
    "\\begin{aligned}\n",
    "\\frac{\\partial J}{\\partial z_i} & = \\frac{1}{n}\\left( -y_i \\frac{\\partial}{\\partial z_i}\\left( \\ln \\frac{1}{1 + e^{-z_i}}\\right) - (1 - y_i)\\frac{\\partial}{\\partial z_i}\\left( \\ln \\frac{e^{-z_i}}{1 + e^{-z_i}}\\right)\\right) \\nonumber \\\\\n",
    "&= \\frac{1}{n}\\left( y_i \\frac{1}{1+e^{-z_i}} \\frac{\\partial}{\\partial z_i}e^{-z_i} - (1-y_i)\\left( \\frac{\\partial}{\\partial z_i} \\ln e^{-z_i} - \\frac{\\partial}{\\partial z_i} \\ln \\big(1 + e^{-z_i}\\big)\\right)\\right) \\nonumber \\\\\n",
    "&=\\frac{1}{n}\\left(-y_i \\frac{e^{-z_i}}{1+e^{-z_i}} + (1-y_i)\\left(1 - \\frac{e^{-z_i}}{1 + e^{-z_i}} \\right)\\right) \\nonumber \\\\\n",
    "&=\\frac{1}{n}\\left(\\frac{e^{-z_i}}{1+e^{-z_i}} \\big(-y_i - (1-y_i) \\big) + (1-y_i) \\big)\\right) = \\frac{1}{n} \\left( - \\frac{e^{-z_i}}{1 + e^{-z_i}} + 1 - y_i \\right) \\nonumber \\\\\n",
    "&= \\frac{1}{n}\\left( - \\left( 1 - \\frac{1}{1+e^{-z_i}} \\right) + 1 -y_i \\right) = \\frac{1}{n}\\left( \\frac{1}{1+e^{-z_i}} - y_i\\right).\n",
    "\\end{aligned}\n",
    "$$\n",
    "\n",
    "Next, \n",
    "\n",
    "$$\n",
    "\\begin{aligned}\n",
    "\\frac{d z_i}{d b} = \\left[ \\frac{\\partial}{\\partial b} \\left(\\mathbf{w}^T\\mathbf{x_1} + b\\right),  \\ldots, \\frac{\\partial}{\\partial b} \\left( \\mathbf{w}^T\\mathbf{x_n} + b \\right) \\right] = [1, \\ldots , 1].\n",
    "\\end{aligned}\n",
    "$$\n",
    "\n",
    "And finally \n",
    "$$\n",
    "\\begin{aligned}\n",
    "\\frac{dz_i}{dw_j} = \\left[ x_{1j}, x_{2j}, \\ldots, x_{nj} \\right]\n",
    "\\end{aligned}\n",
    "$$"
   ]
  },
  {
   "cell_type": "markdown",
   "metadata": {},
   "source": [
    "## Exercise 1.3"
   ]
  },
  {
   "cell_type": "code",
   "execution_count": 7,
   "metadata": {},
   "outputs": [],
   "source": [
    "def init(p, random = True):\n",
    "    # p: numb of vars\n",
    "    if random:\n",
    "        return(np.random.rand(p, 1), np.random.rand(1,1))\n",
    "    else:\n",
    "        return(np.zeros(p), 0)"
   ]
  },
  {
   "cell_type": "markdown",
   "metadata": {},
   "source": [
    "The update steps of the gradient descent will be\n",
    "$$\n",
    "\\begin{aligned}\n",
    "w_j := w_j - \\eta \\frac{1}{n}\\sum_{i=1}^n\\left( \\frac{1}{1+e^{-z_i}} - y_i\\right)x_{ij}  \\\\\n",
    "b := b - \\eta \\frac{1}{n}\\sum_{i=1}^n\\left( \\frac{1}{1+e^{-z_i}} - y_i\\right)\n",
    "\\end{aligned}\n",
    "$$"
   ]
  },
  {
   "cell_type": "code",
   "execution_count": null,
   "metadata": {},
   "outputs": [],
   "source": [
    "def cost()"
   ]
  }
 ],
 "metadata": {
  "kernelspec": {
   "display_name": "Python 3",
   "language": "python",
   "name": "python3"
  },
  "language_info": {
   "codemirror_mode": {
    "name": "ipython",
    "version": 3
   },
   "file_extension": ".py",
   "mimetype": "text/x-python",
   "name": "python",
   "nbconvert_exporter": "python",
   "pygments_lexer": "ipython3",
   "version": "3.6.5"
  }
 },
 "nbformat": 4,
 "nbformat_minor": 2
}
