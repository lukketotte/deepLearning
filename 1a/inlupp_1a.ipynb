{
 "cells": [
  {
   "cell_type": "markdown",
   "metadata": {},
   "source": [
    "# Assignment 1a\n"
   ]
  },
  {
   "cell_type": "code",
   "execution_count": 1,
   "metadata": {},
   "outputs": [],
   "source": [
    "import numpy as np\n",
    "import matplotlib.pyplot as plt\n",
    "\n",
    "%matplotlib inline\n",
    "plt.rcParams['figure.figsize'] = (7,5)"
   ]
  },
  {
   "cell_type": "markdown",
   "metadata": {},
   "source": [
    "## Exercise 1.1\n",
    "For $dJ/db$,\n",
    "$$\n",
    "\\begin{aligned}\n",
    "\\frac{dJ}{db} = \\frac{1}{n}\\sum_{i = 1}^n \\frac{\\partial J}{\\partial z_i}\\frac{dz_i}{db},\n",
    "\\end{aligned}\n",
    "$$\n",
    "and for $dJ/dw_j$,\n",
    "$$\n",
    "\\begin{aligned}\n",
    "\\frac{dJ}{dw_j} = \\frac{1}{n}\\sum_{i = 1}^n \\frac{\\partial J}{\\partial z_i}\\frac{d z_i}{d w_j}\n",
    "\\end{aligned}\n",
    "$$"
   ]
  },
  {
   "cell_type": "markdown",
   "metadata": {},
   "source": [
    "## Exercise 1.2\n",
    "\n",
    "$$\n",
    "\\begin{aligned}\n",
    "\\frac{\\partial J}{\\partial z_i} & = \\frac{1}{n}\\left( -y_i \\frac{\\partial}{\\partial z_i}\\left( \\ln \\frac{1}{1 + e^{-z_i}}\\right) - (1 - y_i)\\frac{\\partial}{\\partial z_i}\\left( \\ln \\frac{e^{-z_i}}{1 + e^{-z_i}}\\right)\\right) \\nonumber \\\\\n",
    "&= \\frac{1}{n}\\left( y_i \\frac{1}{1+e^{-z_i}} \\frac{\\partial}{\\partial z_i}e^{-z_i} - (1-y_i)\\left( \\frac{\\partial}{\\partial z_i} \\ln e^{-z_i} - \\frac{\\partial}{\\partial z_i} \\ln \\big(1 + e^{-z_i}\\big)\\right)\\right) \\nonumber \\\\\n",
    "&=\\frac{1}{n}\\left(-y_i \\frac{e^{-z_i}}{1+e^{-z_i}} + (1-y_i)\\left(1 - \\frac{e^{-z_i}}{1 + e^{-z_i}} \\right)\\right) \\nonumber \\\\\n",
    "&=\\frac{1}{n}\\left(\\frac{e^{-z_i}}{1+e^{-z_i}} \\big(-y_i - (1-y_i) \\big) + (1-y_i) \\big)\\right) = \\frac{1}{n} \\left( - \\frac{e^{-z_i}}{1 + e^{-z_i}} + 1 - y_i \\right) \\nonumber \\\\\n",
    "&= \\frac{1}{n}\\left( - \\left( 1 - \\frac{1}{1+e^{-z_i}} \\right) + 1 -y_i \\right) = \\frac{1}{n}\\left( \\frac{1}{1+e^{-z_i}} - y_i\\right).\n",
    "\\end{aligned}\n",
    "$$\n",
    "\n",
    "Next, \n",
    "\n",
    "$$\n",
    "\\begin{aligned}\n",
    "\\frac{d z_i}{d b} = \\left[ \\frac{\\partial}{\\partial b} \\left(\\mathbf{w}^T\\mathbf{x_1} + b\\right),  \\ldots, \\frac{\\partial}{\\partial b} \\left( \\mathbf{w}^T\\mathbf{x_n} + b \\right) \\right] = [1, \\ldots , 1].\n",
    "\\end{aligned}\n",
    "$$\n",
    "\n",
    "And finally \n",
    "$$\n",
    "\\begin{aligned}\n",
    "\\frac{dz_i}{dw_j} = \\left[ x_{1j}, x_{2j}, \\ldots, x_{nj} \\right]\n",
    "\\end{aligned}\n",
    "$$"
   ]
  },
  {
   "cell_type": "markdown",
   "metadata": {},
   "source": [
    "## Exercise 1.3"
   ]
  },
  {
   "cell_type": "markdown",
   "metadata": {},
   "source": [
    "The update steps of the gradient descent will be\n",
    "$$\n",
    "\\begin{aligned}\n",
    "w_j := w_j - \\eta \\frac{1}{n}\\sum_{i=1}^n\\left( \\frac{1}{1+e^{-z_i}} - y_i\\right)x_{ij}  \\\\\n",
    "b := b - \\eta \\frac{1}{n}\\sum_{i=1}^n\\left( \\frac{1}{1+e^{-z_i}} - y_i\\right)\n",
    "\\end{aligned}\n",
    "$$"
   ]
  },
  {
   "cell_type": "markdown",
   "metadata": {},
   "source": [
    "A easier way to go about this is doing all the updates at once, and inserting a column of ones into $x$, which will be the offset. $\\mathbf{x}$ is thus $n \\times (p+1)$ and $\\mathbf{w}$ is $(p+1) \\times 1$,\n",
    "$$\n",
    "\\begin{aligned}\n",
    "\\mathbf{w} = \\mathbf{w} - \\eta \\frac{1}{n}\\mathbf{x}^T\\left( \\frac{1}{1+e^{-\\mathbf{z}}} - \\mathbf{y} \\right)\n",
    "\\end{aligned}\n",
    "$$"
   ]
  },
  {
   "cell_type": "code",
   "execution_count": 2,
   "metadata": {},
   "outputs": [],
   "source": [
    "class log_reg:\n",
    "    def __init__(self, step_size = 0.01, epochs = 10000, random_init = False):\n",
    "        self.step_size = step_size\n",
    "        self.epochs = epochs\n",
    "        self.random_init = random_init\n",
    "        \n",
    "    def z(self, X, w):\n",
    "        \"\"\"\n",
    "        Computes the linear transformation which is the input\n",
    "        of the sigmoid function.\n",
    "        \"\"\"\n",
    "        return(np.dot(X, w))\n",
    "    \n",
    "    def sigmoid(self, z):\n",
    "        \"\"\"\n",
    "        Computes the sigmoid function \n",
    "        \"\"\"\n",
    "        return(1/(1+np.exp(-z)))\n",
    "    # equation 1d\n",
    "    def loss(self, h, y):\n",
    "        \"\"\"\n",
    "        Cross entropy loss\n",
    "        \"\"\"\n",
    "        return((-y * np.log(h) - (1-y) * np.log(1-h)).mean())\n",
    "    \n",
    "    def add_intercept(self, X):\n",
    "        \"\"\"\n",
    "        Inserts a columns of 1's into matrix X to account\n",
    "        for the intercept (offset)\n",
    "        \"\"\"\n",
    "        intercept = np.ones((X.shape[0], 1))\n",
    "        return(np.concatenate((intercept, X), axis = 1))\n",
    "    \n",
    "    def fit(self, X, y):\n",
    "        \"\"\"\n",
    "        Fits a logistic regression\n",
    "        \"\"\"\n",
    "        X = self.add_intercept(X)\n",
    "        loss = np.zeros(self.epochs)\n",
    "\n",
    "        if not self.random_init:\n",
    "            self.w = np.zeros(X.shape[1]).reshape(X.shape[1],1)\n",
    "        elif self.random_init:\n",
    "            self.w = np.random.rand(X.shape[1]).reshape(X.shape[1],1)\n",
    "        \n",
    "        for i in range(self.epochs):\n",
    "            z = np.dot(X, self.w)\n",
    "            h = self.sigmoid(z)\n",
    "\n",
    "            gradient = np.dot(X.T, (h-y)) / y.size\n",
    "\n",
    "            self.w -= self.step_size * gradient     \n",
    "            \n",
    "            z = np.dot(X, self.w)\n",
    "            h = self.sigmoid(z)\n",
    "            loss[i] = self.loss(h, y)\n",
    "        \n",
    "        return loss\n",
    "    \n",
    "    def predict(self, X, p_cutoff = .5):\n",
    "        X = self.add_intercept(X)\n",
    "        predicted_prob = self.sigmoid(np.dot(X, self.w))\n",
    "        return(predicted_prob >= p_cutoff)\n"
   ]
  },
  {
   "cell_type": "markdown",
   "metadata": {},
   "source": [
    "The ```log_reg``` class can be used to fit a logistic regression. Below is a small test to see that it works."
   ]
  },
  {
   "cell_type": "code",
   "execution_count": 3,
   "metadata": {},
   "outputs": [],
   "source": [
    "np.random.seed(12)\n",
    "mean_vec = [1, 5, 3]\n",
    "cov_mat = np.diag([2.2, 15.3, 82.5])\n",
    "n = 100\n",
    "# as defined in the task, the complete datamatrix is p x n rather than n x p\n",
    "x = np.random.multivariate_normal(mean_vec, cov_mat, n)\n",
    "coefs = np.array([2, -1.2, 0.5]).reshape(3,1)\n",
    "\n",
    "z = 5 + np.matmul(x , coefs)\n",
    "p = 1/(1 + np.exp(-z))\n",
    "y = np.random.binomial(1, p.flatten(), n).reshape(100, 1)"
   ]
  },
  {
   "cell_type": "code",
   "execution_count": 4,
   "metadata": {},
   "outputs": [
    {
     "data": {
      "text/plain": [
       "0.93"
      ]
     },
     "execution_count": 4,
     "metadata": {},
     "output_type": "execute_result"
    }
   ],
   "source": [
    "model_test = log_reg(step_size = .1, epochs = 10000)\n",
    "model_test.fit(x, y.reshape(100, 1))\n",
    "\n",
    "pred = model_test.predict(x)*1\n",
    "(pred == y).mean()"
   ]
  },
  {
   "cell_type": "markdown",
   "metadata": {},
   "source": [
    "So this model predicts 93% of the observations correctly."
   ]
  },
  {
   "cell_type": "markdown",
   "metadata": {},
   "source": [
    "# Exercise 1.4\n",
    "\n",
    "Now I will use the created class on the provided biopsy data."
   ]
  },
  {
   "cell_type": "code",
   "execution_count": 5,
   "metadata": {},
   "outputs": [],
   "source": [
    "import numpy as np\n",
    "import pandas as pd\n",
    "\n",
    "def load_biopsy():\n",
    "    # import data\n",
    "    biopsy = pd.read_csv('biopsy.csv', na_values='?', dtype={'ID': str}).dropna().reset_index()\n",
    "    \n",
    "    # Split in training and test data\n",
    "    trainI = np.random.choice(biopsy.shape[0], size=300, replace=False)    \n",
    "    trainIndex=biopsy.index.isin(trainI)    \n",
    "    train=biopsy.iloc[trainIndex] # training set\n",
    "    test=biopsy.iloc[~trainIndex] # test set    \n",
    "    \n",
    "    # Extract relevant data features\n",
    "    X_train = train[['V1','V2','V3','V4','V5','V6','V7','V8','V9']].values\n",
    "    X_test = test[['V1','V2','V3','V4','V5','V6','V7','V8','V9']].values    \n",
    "    Y_train=(train['class']=='malignant').astype(int).values.reshape((-1,1))\n",
    "    Y_test=(test['class']=='malignant').astype(int).values.reshape((-1,1))\n",
    "    \n",
    "    return X_train, Y_train, X_test, Y_test"
   ]
  },
  {
   "cell_type": "code",
   "execution_count": 6,
   "metadata": {},
   "outputs": [],
   "source": [
    "X_train, Y_train, X_test, Y_test = load_biopsy()"
   ]
  },
  {
   "cell_type": "code",
   "execution_count": 7,
   "metadata": {},
   "outputs": [],
   "source": [
    "model = log_reg(step_size = .01, epochs = 10000)\n",
    "biopsy_loss = model.fit(X_train, Y_train)"
   ]
  },
  {
   "cell_type": "markdown",
   "metadata": {},
   "source": [
    "The loss is shown for the first 100 iterations of estimation."
   ]
  },
  {
   "cell_type": "code",
   "execution_count": 8,
   "metadata": {},
   "outputs": [
    {
     "data": {
      "text/plain": [
       "[<matplotlib.lines.Line2D at 0x1742d5eac88>]"
      ]
     },
     "execution_count": 8,
     "metadata": {},
     "output_type": "execute_result"
    },
    {
     "data": {
      "image/png": "[encoded data removed]",
      "text/plain": [
       "<Figure size 432x288 with 1 Axes>"
      ]
     },
     "metadata": {
      "needs_background": "light"
     },
     "output_type": "display_data"
    }
   ],
   "source": [
    "plt.plot(np.linspace(1, 100, 100), biopsy_loss[:100])"
   ]
  },
  {
   "cell_type": "code",
   "execution_count": 9,
   "metadata": {},
   "outputs": [
    {
     "data": {
      "text/plain": [
       "0.9766666666666667"
      ]
     },
     "execution_count": 9,
     "metadata": {},
     "output_type": "execute_result"
    }
   ],
   "source": [
    "pred = model.predict(X_train)*1\n",
    "(pred == Y_train).mean()"
   ]
  },
  {
   "cell_type": "markdown",
   "metadata": {},
   "source": [
    "So we have 98.33% correctly classified observations in the training data. Now, on the test data"
   ]
  },
  {
   "cell_type": "code",
   "execution_count": 10,
   "metadata": {},
   "outputs": [
    {
     "data": {
      "text/plain": [
       "0.9608355091383812"
      ]
     },
     "execution_count": 10,
     "metadata": {},
     "output_type": "execute_result"
    }
   ],
   "source": [
    "pred_test = model.predict(X_test)*1\n",
    "(pred_test == Y_test).mean()"
   ]
  },
  {
   "cell_type": "markdown",
   "metadata": {},
   "source": [
    "96% observations correctly classified!"
   ]
  }
 ],
 "metadata": {
  "kernelspec": {
   "display_name": "Python 3",
   "language": "python",
   "name": "python3"
  },
  "language_info": {
   "codemirror_mode": {
    "name": "ipython",
    "version": 3
   },
   "file_extension": ".py",
   "mimetype": "text/x-python",
   "name": "python",
   "nbconvert_exporter": "python",
   "pygments_lexer": "ipython3",
   "version": "3.7.0"
  }
 },
 "nbformat": 4,
 "nbformat_minor": 2
}
