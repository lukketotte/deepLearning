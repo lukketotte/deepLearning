{
 "cells": [
  {
   "cell_type": "markdown",
   "metadata": {},
   "source": [
    "## Pre-course assignment\n",
    "### Lukas Arnroth\n",
    "This are my solutions to the pre-course assignment."
   ]
  },
  {
   "cell_type": "code",
   "execution_count": 1,
   "metadata": {},
   "outputs": [],
   "source": [
    "import numpy as np"
   ]
  },
  {
   "cell_type": "markdown",
   "metadata": {},
   "source": [
    "### 1.1"
   ]
  },
  {
   "cell_type": "code",
   "execution_count": 2,
   "metadata": {},
   "outputs": [],
   "source": [
    "def sigmoid(x):\n",
    "    if type(x) is not np.ndarray:\n",
    "        x = np.asarray(x)\n",
    "    # this will be done elementwise\n",
    "    return(1/(1+np.exp(-x)))\n"
   ]
  },
  {
   "cell_type": "code",
   "execution_count": 3,
   "metadata": {},
   "outputs": [
    {
     "data": {
      "text/plain": [
       "array([[0.73105858],\n",
       "       [0.88079708],\n",
       "       [0.95257413]])"
      ]
     },
     "execution_count": 3,
     "metadata": {},
     "output_type": "execute_result"
    }
   ],
   "source": [
    "x = np.array([1,2,3]).reshape(3,1)\n",
    "sigmoid(x)"
   ]
  },
  {
   "cell_type": "markdown",
   "metadata": {},
   "source": [
    "### 2.1\n",
    "As the derivative of the sigmoid function can be expressed as $ \\sigma'(x) = \\sigma(x)(1 - \\sigma(x)) $,"
   ]
  },
  {
   "cell_type": "code",
   "execution_count": 4,
   "metadata": {},
   "outputs": [],
   "source": [
    "def sigmoid_diff(x):\n",
    "    if type(x) is not np.ndarray:\n",
    "        x = np.asarray(x)\n",
    "    # elementwise sigmoid\n",
    "    x_sig = sigmoid(x)\n",
    "    return(x_sig*(1-x_sig))   "
   ]
  },
  {
   "cell_type": "code",
   "execution_count": 5,
   "metadata": {},
   "outputs": [
    {
     "data": {
      "text/plain": [
       "array([[0.19661193],\n",
       "       [0.10499359],\n",
       "       [0.04517666]])"
      ]
     },
     "execution_count": 5,
     "metadata": {},
     "output_type": "execute_result"
    }
   ],
   "source": [
    "sigmoid_diff(x)"
   ]
  },
  {
   "cell_type": "markdown",
   "metadata": {},
   "source": [
    "### 3.1\n",
    "Following the figure, the reshape should be done by row. I don't have any input for the shapes of the desired output, but use the shapes of the input array. Might've misinterpreted the question here."
   ]
  },
  {
   "cell_type": "code",
   "execution_count": 6,
   "metadata": {},
   "outputs": [],
   "source": [
    "def image2vec(x, col_vector = True):\n",
    "    if type(x) is not np.ndarray:\n",
    "        x = np.asarray(x)\n",
    "    if col_vector:\n",
    "        return((x.reshape(x.shape[0] * x.shape[1], -1)))\n",
    "    if not col_vector:\n",
    "        return(x.reshape(-1, x.shape[0] * x.shape[1]))"
   ]
  },
  {
   "cell_type": "code",
   "execution_count": 7,
   "metadata": {},
   "outputs": [
    {
     "data": {
      "text/plain": [
       "array([[0.1, 0.3, 0.2, 0. , 0.9, 0.4]])"
      ]
     },
     "execution_count": 7,
     "metadata": {},
     "output_type": "execute_result"
    }
   ],
   "source": [
    "x = np.array([.1, .3, .2, .0, .9, .4]).reshape(3,2)\n",
    "image2vec(x, col_vector = False)"
   ]
  },
  {
   "cell_type": "markdown",
   "metadata": {},
   "source": [
    "### 4.1"
   ]
  },
  {
   "cell_type": "code",
   "execution_count": 8,
   "metadata": {},
   "outputs": [],
   "source": [
    "def normalizeColumns(X):\n",
    "    X = np.asarray(X)\n",
    "    if len(X.shape) < 2:\n",
    "        print(\"Can't normalize by columns as dim(X) is {}\".format(X.shape))\n",
    "    elif len(X.shape) > 2:\n",
    "        print(\"To many modes of indexing, {}\".format(len(X.shape)))\n",
    "    else:\n",
    "        # get the columnwise 2-norms\n",
    "        x_norms = np.linalg.norm(x, axis = 0)\n",
    "        # create a matrix that allows for elementwise division, not so neat but works\n",
    "        x_norms_mat = np.tile(x_norms, (X.shape[0], 1))\n",
    "        return(X/x_norms_mat)\n",
    "        "
   ]
  },
  {
   "cell_type": "code",
   "execution_count": 9,
   "metadata": {},
   "outputs": [
    {
     "data": {
      "text/plain": [
       "array([[ 1.        ,  0.24253563,  0.31622777],\n",
       "       [ 0.        , -0.9701425 ,  0.9486833 ]])"
      ]
     },
     "execution_count": 9,
     "metadata": {},
     "output_type": "execute_result"
    }
   ],
   "source": [
    "x = np.asarray(np.matrix([[2,1,1], [0,-4,3]]))\n",
    "normalizeColumns(x)"
   ]
  },
  {
   "cell_type": "code",
   "execution_count": null,
   "metadata": {},
   "outputs": [],
   "source": []
  }
 ],
 "metadata": {
  "kernelspec": {
   "display_name": "Python 3",
   "language": "python",
   "name": "python3"
  },
  "language_info": {
   "codemirror_mode": {
    "name": "ipython",
    "version": 3
   },
   "file_extension": ".py",
   "mimetype": "text/x-python",
   "name": "python",
   "nbconvert_exporter": "python",
   "pygments_lexer": "ipython3",
   "version": "3.6.5"
  }
 },
 "nbformat": 4,
 "nbformat_minor": 2
}
