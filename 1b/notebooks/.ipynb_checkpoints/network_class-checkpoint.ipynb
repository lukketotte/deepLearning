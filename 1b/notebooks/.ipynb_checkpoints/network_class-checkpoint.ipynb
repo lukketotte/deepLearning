{
 "cells": [
  {
   "cell_type": "code",
   "execution_count": 308,
   "metadata": {},
   "outputs": [],
   "source": [
    "import numpy as np\n",
    "import matplotlib.pyplot as plt\n",
    "\n",
    "%matplotlib inline\n",
    "plt.rcParams['figure.figsize'] = (7,5)"
   ]
  },
  {
   "cell_type": "code",
   "execution_count": 451,
   "metadata": {},
   "outputs": [],
   "source": [
    "class Network:\n",
    "    \"\"\"\n",
    "    Network class used to solve the second exercise of assignment 1b.\n",
    "    \n",
    "    Arguments\n",
    "    ---------\n",
    "    sizes: list. First entry should be the # of variables in X, last entry \n",
    "        should be the number of classes to predict. \n",
    "    \"\"\"\n",
    "    def __init__(self, sizes, activation_fun):\n",
    "        \"\"\"\n",
    "        num_layers : int, number of layers in the network, not including the input\n",
    "        b : [np.array]\n",
    "        W : [np.array]\n",
    "        activation_fun : str or [str], specifies the activation functions to be used\n",
    "            in each layer of the network. AssertionError if the num_layers != len(.)\n",
    "        \"\"\"\n",
    "        self.num_layers = len(sizes) - 1\n",
    "        self.sizes = sizes\n",
    "        self.b = [np.random.rand(y, 1)*.1 for y in sizes[1:]]\n",
    "        self.W = [np.random.randn(y, x)*.1 for x, y in zip(sizes[:-1], sizes[1:])]\n",
    "        if len(sizes) > 2 and isinstance(activation_fun, str):\n",
    "            self.activation_fun = [activation_fun] * self.num_layers\n",
    "        elif isinstance(activation_fun, list):\n",
    "            self.activation_fun = activation_fun\n",
    "            assert(len(activation_fun) == len(sizes) - 2)\n",
    "        elif len(sizes) == 1 and isinstance(activation_fun, str):\n",
    "            self.activation_fun = [activation_fun]\n",
    "            \n",
    "    ### Methods for the activation functions ###\n",
    "    def sigmoid(self, z):\n",
    "        return 1/(1+np.exp(-z))\n",
    "    \n",
    "    def relu(self, z):\n",
    "        return np.maximum(z, 0)\n",
    "    \n",
    "    def softmax(self, z):\n",
    "        \"\"\"\n",
    "        Uses stabilization by subtracting the max in the exponent\n",
    "        \"\"\"\n",
    "        s = np.max(z, axis=1).reshape(z.shape[0], 1)\n",
    "        e_x = np.exp(z - s)\n",
    "        return e_x / np.sum(e_x, axis=1).reshape(z.shape[0], 1)\n",
    "    \n",
    "    ###  forward propagation ###\n",
    "    def linear_forward(self, h_prev, W, b):\n",
    "        \"\"\"\n",
    "        Computes the linear transformation at layer l\n",
    "        \n",
    "        Arguments\n",
    "        ---------\n",
    "        \n",
    "        \"\"\"\n",
    "        return h_prev.dot(W.T) + b.T\n",
    "    \n",
    "    def activation_forward(self, h_prev, W, b, activation_fun):\n",
    "        if activation_fun == \"sigmoid\":\n",
    "            Z = self.linear_forward(h_prev, W, b)\n",
    "            h = self.sigmoid(Z)\n",
    "        \n",
    "        elif activation_fun == \"relu\":\n",
    "            Z = self.linear_forward(h_prev, W, b)\n",
    "            h = self.relu(Z)\n",
    "            \n",
    "        elif activation_fun == \"softmax\":\n",
    "            Z = self.linear_forward(h_prev, W, b)\n",
    "            h = self.softmax(Z)\n",
    "            \n",
    "        return h, Z\n",
    "    \n",
    "    def model_forward(self, X):\n",
    "        \"\"\"\n",
    "        Forward propagation with softmax output\n",
    "        \"\"\"\n",
    "        activation_cache = [X]\n",
    "        z_cache = []\n",
    "        \n",
    "        # i = 1, ... , L-1\n",
    "        for i in range(self.num_layers-1):\n",
    "            h_new, z_new = self.activation_forward(\n",
    "                activation_cache[i], self.W[i], self.b[i], self.activation_fun[i])\n",
    "            activation_cache.append(h_new)\n",
    "            z_cache.append(z_new)\n",
    "        \n",
    "        # output layer\n",
    "        h_L, z_L = self.activation_forward(activation_cache[-1], self.W[-1], self.b[-1], \"softmax\")\n",
    "        activation_cache.append(h_L)\n",
    "        z_cache.append(z_L)\n",
    "        \n",
    "        return activation_cache, z_cache\n",
    "    \n",
    "    ### Cost function ###\n",
    "    def compute_cost(self, h_L, y):\n",
    "        \"\"\"\n",
    "        Computes the cross entropy loss\n",
    "        \n",
    "        Arguments\n",
    "        ---------\n",
    "        h_L : np.array, output from final layer\n",
    "        y : np.array, one-hot encoded class labels\n",
    "        \"\"\"\n",
    "        return (-1 / y.shape[0]) * np.sum(y * np.log(h_L))\n",
    "    \n",
    "    ### Derivatives used ###\n",
    "    def cost_derivative(self, h_L, y):\n",
    "        \"\"\"\n",
    "        Based on the calculated derivative of the cross-entropy cross function\n",
    "        \n",
    "        Arguments\n",
    "        h_L : np.array, final element of activation_cache\n",
    "        y : np.array, one-hot encoded classes\n",
    "        \"\"\"\n",
    "        return h_L - y\n",
    "    \n",
    "    def sigmoid_grad(self, z):\n",
    "        \"\"\"\n",
    "        Compute gradient of sigmoid function wrt to the input\n",
    "        \n",
    "        Arguments\n",
    "        z : np.array, linear transformation of the previous layers output\n",
    "        \"\"\"\n",
    "        h = self.sigmoid(z)\n",
    "        return h * (1-h)\n",
    "    \n",
    "    def relu_grad(self, z):\n",
    "        \"\"\"\n",
    "        Compute gradient of relu function wrt to the input\n",
    "        \n",
    "        Arguments\n",
    "        z : np.array, linear transformation of the previous layers output\n",
    "        \"\"\"\n",
    "        h = self.relu(z)\n",
    "        return np.int64(h > 0)\n",
    "    \n",
    "    ### Backpropagation ###\n",
    "    def linear_backward(self, g, h_prev, W, b):\n",
    "        \"\"\"\n",
    "        Computes gradient wrt to the weights, offset and hidden output\n",
    "        from the previous layer\n",
    "        \n",
    "        Arguments\n",
    "        g : np.array, following the notation from lecture 3, g is the \n",
    "            gradient of the cost function\n",
    "        \"\"\"\n",
    "        dW = g.T.dot(h_prev)\n",
    "        db = g.mean(axis = 0).reshape(b.shape)\n",
    "        dh_prev = g.dot(W)\n",
    "        \n",
    "        # dimensions should be the same \n",
    "        assert dh_prev.shape == h_prev.shape, \"ERROR: h_prev.shape != dh_prev.shape\"\n",
    "        assert dW.shape == W.shape, \"ERROR: dW.shape != W.shape\"\n",
    "        assert db.shape == b.shape, \"ERROR: db.shape != b.shape\"\n",
    "        \n",
    "        return dh_prev, dW, db\n",
    "    \n",
    "    def linear_activation_backward(self, g, z, activation_fun):\n",
    "        \"\"\"\n",
    "        (a) step in step 2. of the pseudo-code for L3.\n",
    "        \n",
    "        Arguments:\n",
    "        g : np.array, gradient of cost function\n",
    "        z : np.array, linear transformation \n",
    "        activation_fun : str\n",
    "        \"\"\"\n",
    "        if activation_fun == \"sigmoid\":\n",
    "            g *= self.sigmoid_grad(z)\n",
    "        elif activation_fun == \"relu\":\n",
    "            g *= self.relu_grad(z)\n",
    "        \n",
    "        return g\n",
    "        \n",
    "    def L_model_backward(self, y, z_caches, h_caches):\n",
    "        \"\"\" \n",
    "        Back propagation :) \n",
    "        \n",
    "        Arguments\n",
    "        y : np.array, one-hot encoded matrix of classes\n",
    "        z_caches : [np.array], linear transformations through the network\n",
    "        h_caches : [np.array], hidden outputs through the network\n",
    "        \n",
    "        Returns tuple of gradients\n",
    "        \"\"\"\n",
    "        nabla_b = [np.zeros(b.shape) for b in self.b]\n",
    "        nabla_W = [np.zeros(W.shape) for W in self.W]\n",
    "        \n",
    "        # first backward pass\n",
    "        g = (h[-1] - y)\n",
    "        dh_prev, dW, db = self.linear_backward(g, h_caches[-2], self.W[-1], self.b[-1])\n",
    "        nabla_b[-1] = db\n",
    "        nabla_W[-1] = dW\n",
    "        \n",
    "        # for the hidden layers\n",
    "        for i in range(self.num_layers - 2, -1, -1):\n",
    "            # update g with dh_prev and the \n",
    "            # gradient of current node\n",
    "            g = self.linear_activation_backward(\n",
    "                dh_prev, z[i], self.activation_fun[i])\n",
    "            \n",
    "            dh_prev, dW, db = self.linear_backward(g, h_caches[i], self.W[i], self.b[i])\n",
    "            nabla_b[i] = db\n",
    "            nabla_W[i] = dW\n",
    "        \n",
    "        return nabla_W, nabla_b\n",
    "    \n",
    "    ### Create a random set of mini batches ###\n",
    "    def shuffle_data(self, X, y, batch_size = 10):\n",
    "        \"\"\"\n",
    "        Shuffles X and y\n",
    "        \n",
    "        Returns: a list of tuples [(X, y)]\n",
    "        \"\"\"\n",
    "        assert X.shape[0] == y.shape[0]\n",
    "        batch_list = []\n",
    "        row_permut = np.random.permutation(X.shape[0])\n",
    "        row_permut_split = np.array_split(\n",
    "            row_permut, np.round(X.shape[0]/batch_size))\n",
    "        \n",
    "        for batches in row_permut_split:\n",
    "            batch_list.append((X[batches, :], y[batches, :]))\n",
    "        \n",
    "        return batch_list\n",
    "\n",
    "    ### Update parameters ###\n",
    "    # def update_mini_batch(self, z_caches, h_caches, mini_batch, step_size):\n",
    "        \n",
    "          "
   ]
  },
  {
   "cell_type": "code",
   "execution_count": 281,
   "metadata": {},
   "outputs": [],
   "source": [
    "X = np.array([1,2,-2,2,3,4,5,6,2,-2,-1,2]).reshape(4,3)\n",
    "y = np.array([0,1,0,1,0,0,0,0,1,0,1,0]).reshape(4,3)\n",
    "\n",
    "test = Network([X.shape[1], y.shape[1]], \"sigmoid\")\n",
    "# forward pass\n",
    "h,z = test.model_forward(X)\n",
    "# backward pass\n",
    "nabla_W, nabla_b = test.L_model_backward(y, z, h)"
   ]
  },
  {
   "cell_type": "code",
   "execution_count": 423,
   "metadata": {},
   "outputs": [
    {
     "data": {
      "image/png": "[encoded data removed]",
      "text/plain": [
       "<Figure size 432x288 with 1 Axes>"
      ]
     },
     "metadata": {},
     "output_type": "display_data"
    }
   ],
   "source": [
    "# Test using following\n",
    "# http://cs231n.github.io/neural-networks-case-study/\n",
    "N = 100 # number of points per class\n",
    "D = 2 # dimensionality\n",
    "K = 3 # number of classes\n",
    "X = np.zeros((N*K,D)) # data matrix (each row = single example)\n",
    "y = np.zeros(N*K, dtype='uint8') # class labels\n",
    "for j in range(K):\n",
    "    ix = range(N*j,N*(j+1))\n",
    "    r = np.linspace(0.0,1,N) # radius\n",
    "    t = np.linspace(j*4,(j+1)*4,N) + np.random.randn(N)*0.2 # theta\n",
    "    X[ix] = np.c_[r*np.sin(t), r*np.cos(t)]\n",
    "    y[ix] = j\n",
    "# lets visualize the data:\n",
    "plt.scatter(X[:, 0], X[:, 1], c=y, s=40, cmap=plt.cm.Spectral)\n",
    "plt.show()\n",
    "\n",
    "y = np.eye(np.max(y) + 1)[y]"
   ]
  },
  {
   "cell_type": "code",
   "execution_count": 456,
   "metadata": {},
   "outputs": [
    {
     "data": {
      "text/plain": [
       "[<matplotlib.lines.Line2D at 0x22ee70d2f60>]"
      ]
     },
     "execution_count": 456,
     "metadata": {},
     "output_type": "execute_result"
    },
    {
     "data": {
      "image/png": "[encoded data removed]",
      "text/plain": [
       "<Figure size 432x288 with 1 Axes>"
      ]
     },
     "metadata": {},
     "output_type": "display_data"
    }
   ],
   "source": [
    "# proper test\n",
    "epochs = 1000\n",
    "test = Network([X.shape[1],  y.shape[1]], [])\n",
    "cost = np.zeros(epochs)\n",
    "\n",
    "for i in range(epochs):\n",
    "    h, z = test.model_forward(X)\n",
    "    nabla_W, nabla_b = test.L_model_backward(y, z, h)\n",
    "    # update\n",
    "    for j in range(len(test.W)):\n",
    "        test.W[j] -= 1 * nabla_W[j] / X.shape[0]\n",
    "        test.b[j] -= 1 * nabla_b[j] / X.shape[0]\n",
    "    # compute cost\n",
    "    cost[i] = test.compute_cost(h[-1], y)\n",
    "\n",
    "x = np.linspace(1, epochs, epochs)\n",
    "plt.plot(x, cost)"
   ]
  },
  {
   "cell_type": "code",
   "execution_count": 457,
   "metadata": {},
   "outputs": [
    {
     "data": {
      "text/plain": [
       "0.5333333333333333"
      ]
     },
     "execution_count": 457,
     "metadata": {},
     "output_type": "execute_result"
    }
   ],
   "source": [
    "preds = np.argmax(h[-1], axis = 1)\n",
    "(preds == np.argmax(y, axis = 1)).mean()"
   ]
  },
  {
   "cell_type": "code",
   "execution_count": 467,
   "metadata": {},
   "outputs": [
    {
     "data": {
      "text/plain": [
       "(array([ 6.,  4.,  1.,  8.,  5.,  3.,  9., 10.,  2.,  7.]),\n",
       " array([ 6.,  4.,  1.,  8.,  5.,  3.,  9., 10.,  2.,  7.]))"
      ]
     },
     "execution_count": 467,
     "metadata": {},
     "output_type": "execute_result"
    }
   ],
   "source": [
    "a = np.linspace(1, 10, 10)\n",
    "b = np.linspace(1, 10, 10)\n",
    "\n",
    "p = np.random.permutation(len(a))\n",
    "a[p], b[p]"
   ]
  },
  {
   "cell_type": "code",
   "execution_count": 470,
   "metadata": {},
   "outputs": [
    {
     "data": {
      "text/plain": [
       "((300, 2), (300, 3))"
      ]
     },
     "execution_count": 470,
     "metadata": {},
     "output_type": "execute_result"
    }
   ],
   "source": [
    "X.shape, y.shape"
   ]
  },
  {
   "cell_type": "code",
   "execution_count": 477,
   "metadata": {},
   "outputs": [],
   "source": [
    "batch_size = 10\n",
    "data_list = []\n",
    "ids = np.random.permutation(X.shape[0])\n",
    "ids = np.array_split(ids, np.round(X.shape[0]/batch_size))\n",
    "for batches in ids:\n",
    "    data_list.append((X[batches, :], y[batches, :]))"
   ]
  },
  {
   "cell_type": "code",
   "execution_count": 480,
   "metadata": {},
   "outputs": [
    {
     "name": "stdout",
     "output_type": "stream",
     "text": [
      "(10, 2) (10, 3)\n",
      "(10, 2) (10, 3)\n",
      "(10, 2) (10, 3)\n",
      "(10, 2) (10, 3)\n",
      "(10, 2) (10, 3)\n",
      "(10, 2) (10, 3)\n",
      "(10, 2) (10, 3)\n",
      "(10, 2) (10, 3)\n",
      "(10, 2) (10, 3)\n",
      "(10, 2) (10, 3)\n",
      "(10, 2) (10, 3)\n",
      "(10, 2) (10, 3)\n",
      "(10, 2) (10, 3)\n",
      "(10, 2) (10, 3)\n",
      "(10, 2) (10, 3)\n",
      "(10, 2) (10, 3)\n",
      "(10, 2) (10, 3)\n",
      "(10, 2) (10, 3)\n",
      "(10, 2) (10, 3)\n",
      "(10, 2) (10, 3)\n",
      "(10, 2) (10, 3)\n",
      "(10, 2) (10, 3)\n",
      "(10, 2) (10, 3)\n",
      "(10, 2) (10, 3)\n",
      "(10, 2) (10, 3)\n",
      "(10, 2) (10, 3)\n",
      "(10, 2) (10, 3)\n",
      "(10, 2) (10, 3)\n",
      "(10, 2) (10, 3)\n",
      "(10, 2) (10, 3)\n"
     ]
    }
   ],
   "source": [
    "for x, y in data_list:\n",
    "    print(x.shape, y.shape)"
   ]
  },
  {
   "cell_type": "code",
   "execution_count": null,
   "metadata": {},
   "outputs": [],
   "source": []
  }
 ],
 "metadata": {
  "kernelspec": {
   "display_name": "Python 3",
   "language": "python",
   "name": "python3"
  },
  "language_info": {
   "codemirror_mode": {
    "name": "ipython",
    "version": 3
   },
   "file_extension": ".py",
   "mimetype": "text/x-python",
   "name": "python",
   "nbconvert_exporter": "python",
   "pygments_lexer": "ipython3",
   "version": "3.6.5"
  }
 },
 "nbformat": 4,
 "nbformat_minor": 2
}
