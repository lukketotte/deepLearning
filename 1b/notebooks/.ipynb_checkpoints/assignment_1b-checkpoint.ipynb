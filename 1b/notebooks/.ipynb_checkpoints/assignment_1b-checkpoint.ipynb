{
 "cells": [
  {
   "cell_type": "code",
   "execution_count": 1,
   "metadata": {},
   "outputs": [],
   "source": [
    "import numpy as np\n",
    "\n",
    "import matplotlib.pyplot as plt\n",
    "%matplotlib inline\n",
    "plt.rcParams['figure.figsize'] = (10,7)"
   ]
  },
  {
   "cell_type": "markdown",
   "metadata": {},
   "source": [
    "# Assignment 1b\n",
    "In this assignment, the previous assignment will be extended in two ways. Firstly, in terms of $K$ possible outcomes, rather than $2$. Secondly, it will be extended to a fully connected neural network that allows for the sigmoid and ReLU activation functions in the intermediate layers.\n",
    "\n",
    "## 2.1\n",
    "\n",
    "### The softmax and Cross-entropy loss\n",
    "The softmax function is defined as\n",
    "$$\n",
    "p_{ik} = \\frac{e^{z_{ik}}}{\\sum_{l = 1}^K e^{z_{il}}} = \\frac{\\exp\\left\\{ \\mathbf{w}^T_k \\mathbf{x}_i + b_k \\right\\}}{\\sum_{l=1}^K \\exp\\left\\{ \\mathbf{w}^T_l \\mathbf{x}_i + b_l \\right\\}},\n",
    "$$\n",
    "with the cross-entropy loss function defined as \n",
    "$$\n",
    "L(\\mathbf{y}, \\mathbf{p}) = - \\sum_{k=1}^K y_k \\ln p_k.\n",
    "$$\n",
    "Note that $\\mathbf{y}$ is one-hot encoded, which will be useful in the derivation of the necessary derivatives. The `softmax` and `softmax_loss` functions below deal with the above equations. It should be noted that the input in `softmax` is shifted by $-max(\\text{input})$ to avoid that `np.exp()` returns $\\inf$. This is no problem as\n",
    "$$\n",
    "\\frac{e^{z_k - max(z)}}{\\sum_{l=1}^K e^{z_l - max(z)}} = \\frac{\\frac{e^{z_k}}{e^{max(z)}}}{\\frac{\\sum_{l=1}^K e^{z_l}} {e^{max(z)}}} = p_k\n",
    "$$"
   ]
  },
  {
   "cell_type": "code",
   "execution_count": 2,
   "metadata": {},
   "outputs": [],
   "source": [
    "def softmax(z):\n",
    "    \"\"\"\n",
    "    Uses stabilization by subtracting the max in the exponent\n",
    "    \"\"\"\n",
    "    s = np.max(z, axis=1).reshape(z.shape[0], 1)\n",
    "    e_x = np.exp(z - s)\n",
    "    return e_x / np.sum(e_x, axis=1).reshape(z.shape[0], 1)\n",
    "\n",
    "def softmax_loss(z, y):\n",
    "    \"\"\"\n",
    "    Computes the cross entropy loss\n",
    "    \"\"\"\n",
    "    probs = softmax(z)\n",
    "    return (-1 / y.shape[0]) * np.sum(y * np.log(probs))"
   ]
  },
  {
   "cell_type": "markdown",
   "metadata": {},
   "source": [
    "### The gradients\n",
    "Consider first the derivative of the loss function wrt the linear input $z_j$,\n",
    "$$\n",
    "\\frac{\\partial L(\\mathbf{y}, \\mathbf{p})}{\\partial z_j} = - \\sum_{k=1}^K y_k \\frac{\\partial}{\\partial z_j} \\ln p_k = - \\sum_{k=1}^K \\frac{1}{p_k} y_k \\frac{\\partial p_k}{\\partial z_j},\\ j = 1, \\ldots, K.\n",
    "$$\n",
    "Consider the inner derivative now. For $j = k$, we have\n",
    "$$\n",
    "\\frac{\\partial p_k}{\\partial z_k} = \\frac{e^{z_k} \\sum_l e^{z_l} - e^{z_k}e^{z_k}}{\\left( \\sum_l e^{z_l} \\right)^2} = \\frac{e^{z_k}}{\\sum_l e^{z_l}} - \\left(\\frac{e^{z_l}}{\\sum_l e^{z_l}} \\right)^2 = p_k - p_k^2 = p_k(1-p_k),\n",
    "$$\n",
    "and for $j\\neq k$,\n",
    "$$\n",
    "\\frac{\\partial p_k}{\\partial z_j} = e^{z_k} \\frac{1}{\\partial z_j} \\frac{1}{\\sum_l e^{z_l}} = - e^{z_k} e^{z_j} = -p_k p_j.\n",
    "$$\n",
    "To summarise,\n",
    "$$\n",
    "\\frac{\\partial p_k}{\\partial z_j} = \n",
    "\\begin{cases}\n",
    "p_k(1 - p_k) & \\text{if } j = k \\\\\n",
    "-p_k p_j & \\text{if } j \\neq k.\n",
    "\\end{cases}\n",
    "$$\n",
    "Putting this into the loss function gives\n",
    "$$\n",
    "\\begin{aligned}\n",
    "- \\sum_{k=1}^K \\frac{1}{p_k} y_k \\frac{\\partial p_k}{\\partial z_j} &= - \\left( y_j(1-p_j) + \\sum_{k \\neq j} -p_j y_k \\right) = p_jy_j - y_j + \\sum_{k \\neq j} -p_jy_k \\\\\n",
    "& = p_j \\overbrace{\\left( y_j + \\sum_{k\\neq j} y_k\\right)}^{= 1} - y_j = p_j - y_j,\n",
    "\\end{aligned}\n",
    "$$\n",
    "where the one-hot encoding is used in the last equality! This is implemented in the function `grad_softmax_loss` for \n",
    "$$\n",
    "J = \\frac{1}{n} \\sum_{i=1}^n L(\\mathbf{p}_i, \\mathbf{y}_i),\n",
    "$$\n",
    "where $\\mathbf{y}$ is $n \\times K$."
   ]
  },
  {
   "cell_type": "code",
   "execution_count": 3,
   "metadata": {},
   "outputs": [],
   "source": [
    "def grad_softmax_loss(z, y):\n",
    "    \"\"\"\n",
    "    Computes the softmax output and returns the derivative wrt to \n",
    "    the linear input of the cost function.\n",
    "    \"\"\"\n",
    "    probs = softmax(z)\n",
    "    return probs - y"
   ]
  },
  {
   "cell_type": "markdown",
   "metadata": {},
   "source": [
    "And by the chain rule, the vectorized update steps will be\n",
    "$$\n",
    "\\begin{aligned}\n",
    "& \\mathbf{w}_{new} = \\mathbf{w}_{old} - \\gamma \\frac{1}{n} \\mathbf{x}^T(\\mathbf{p} - \\mathbf{y})\\\\\n",
    "& \\mathbf{b}_{new} = \\mathbf{b}_{old} - \\gamma \\frac{1}{n} (\\mathbf{p} - \\mathbf{y}).\n",
    "\\end{aligned}\n",
    "$$\n",
    "\n",
    "Now I'm ready to code up a multinomial logistic regression with stochastic gradient descent using mini-batches."
   ]
  },
  {
   "cell_type": "code",
   "execution_count": 4,
   "metadata": {},
   "outputs": [],
   "source": [
    "def mini_batches(X, y, batch_size = 10):\n",
    "    \"\"\"    \n",
    "    Returns a list of tuples [(X, y)]\n",
    "    \"\"\"\n",
    "    assert X.shape[0] == y.shape[0]\n",
    "    batch_list = []\n",
    "    row_permut = np.random.permutation(X.shape[0])\n",
    "    row_permut_split = np.array_split(\n",
    "        row_permut, np.round(X.shape[0]/batch_size))\n",
    "        \n",
    "    for batches in row_permut_split:\n",
    "        batch_list.append((X[batches, :], y[batches, :]))\n",
    "        \n",
    "    return batch_list\n",
    "\n",
    "def train(epochs, X, y, step_size = 0.1, batch_size = 10):\n",
    "    \"\"\"\n",
    "    Trains the network for a given batch\n",
    "    \"\"\"\n",
    "    # initiate weights and offset\n",
    "    W = np.random.normal(loc = 0, scale = .01, size = (X.shape[1], y.shape[1]))\n",
    "    b = np.zeros(y.shape[1]).reshape(1, y.shape[1])\n",
    "    loss = []\n",
    "\n",
    "    for i in range(epochs):\n",
    "        if (i % 50) == 0:\n",
    "            print(\"iter: {}\".format(i))\n",
    "        # placeholders for gradients\n",
    "        nabla_w = np.zeros(y.shape[1] * X.shape[1]).reshape(X.shape[1], y.shape[1])\n",
    "        nabla_b = np.zeros(y.shape[1]).reshape(1, y.shape[1])\n",
    "        \n",
    "        for x_b, y_b in mini_batches(X, y, batch_size):\n",
    "            # derivative of cost function wrt to linear input...\n",
    "            z = x_b.dot(W) + b\n",
    "            grad_loss = grad_softmax_loss(z, y_b)\n",
    "            \n",
    "            # ...and the parameters\n",
    "            nabla_w += x_b.T.dot(grad_loss) / batch_size\n",
    "            nabla_b += (grad_loss).mean(axis = 0) / batch_size\n",
    "        \n",
    "        # update step\n",
    "        W -= step_size * nabla_w\n",
    "        b -= step_size * nabla_b\n",
    "        # append loss\n",
    "        loss.append(softmax_loss(X.dot(W) + b, y))\n",
    "    \n",
    "    \n",
    "    \n",
    "    return loss, W, b"
   ]
  },
  {
   "cell_type": "code",
   "execution_count": 5,
   "metadata": {},
   "outputs": [
    {
     "name": "stderr",
     "output_type": "stream",
     "text": [
      "C:\\Users\\lukas\\Anaconda3\\lib\\site-packages\\ipykernel_launcher.py:14: DeprecationWarning: `imread` is deprecated!\n",
      "`imread` is deprecated in SciPy 1.0.0, and will be removed in 1.2.0.\n",
      "Use ``imageio.imread`` instead.\n",
      "  \n",
      "C:\\Users\\lukas\\Anaconda3\\lib\\site-packages\\ipykernel_launcher.py:26: DeprecationWarning: `imread` is deprecated!\n",
      "`imread` is deprecated in SciPy 1.0.0, and will be removed in 1.2.0.\n",
      "Use ``imageio.imread`` instead.\n"
     ]
    }
   ],
   "source": [
    "from scipy import misc\n",
    "import glob\n",
    "import os\n",
    "def load_mnist(path_to_MNIST):\n",
    "    # Loads the MNIST dataset from png images\n",
    "    NUM_LABELS = 10        \n",
    "    # create list of image objects\n",
    "    test_images = []\n",
    "    test_labels = []    \n",
    "    \n",
    "    for label in range(NUM_LABELS):\n",
    "        # the + str(label) didnt work for me\n",
    "        for image_path in glob.glob(os.path.join(path_to_MNIST, \"MNIST\\\\Test\", str(label) + \"\\\\*.png\")):\n",
    "            image = misc.imread(image_path)\n",
    "            test_images.append(image)\n",
    "            letter = [0 for _ in range(0,NUM_LABELS)]    \n",
    "            letter[label] = 1\n",
    "            test_labels.append(letter)  \n",
    "            \n",
    "    # create list of image objects\n",
    "    train_images = []\n",
    "    train_labels = []    \n",
    "    \n",
    "    for label in range(NUM_LABELS):\n",
    "        for image_path in glob.glob(os.path.join(path_to_MNIST, \"MNIST\\\\Train\", str(label) + \"\\\\*.png\")):\n",
    "            image = misc.imread(image_path)\n",
    "            train_images.append(image)\n",
    "            letter = [0 for _ in range(0,NUM_LABELS)]    \n",
    "            letter[label] = 1\n",
    "            train_labels.append(letter)                  \n",
    "            \n",
    "    X_train= np.array(train_images).reshape(-1,784)/255.0\n",
    "    Y_train= np.array(train_labels)\n",
    "    X_test= np.array(test_images).reshape(-1,784)/255.0\n",
    "    Y_test= np.array(test_labels)\n",
    "    \n",
    "    return X_train, Y_train, X_test, Y_test\n",
    "\n",
    "# X_train, Y_train, X_test, Y_test = load_mnist(\"C:\\\\Users\\\\lukar818\\\\Desktop\") C:\\Users\\lukas\\Desktop\n",
    "X_train, Y_train, X_test, Y_test = load_mnist(\"C:\\\\Users\\\\lukas\\\\Desktop\")"
   ]
  },
  {
   "cell_type": "code",
   "execution_count": 16,
   "metadata": {},
   "outputs": [
    {
     "name": "stdout",
     "output_type": "stream",
     "text": [
      "iter: 0\n",
      "iter: 50\n",
      "iter: 100\n",
      "iter: 150\n",
      "iter: 200\n",
      "iter: 250\n",
      "iter: 300\n",
      "iter: 350\n",
      "iter: 400\n",
      "iter: 450\n",
      "iter: 500\n",
      "iter: 550\n",
      "iter: 600\n",
      "iter: 650\n",
      "iter: 700\n",
      "iter: 750\n",
      "iter: 800\n",
      "iter: 850\n",
      "iter: 900\n",
      "iter: 950\n"
     ]
    }
   ],
   "source": [
    "loss_mnist, W_mnist, b_mnist = train(1000, X_train, Y_train, 0.0005)"
   ]
  },
  {
   "cell_type": "code",
   "execution_count": 19,
   "metadata": {},
   "outputs": [
    {
     "data": {
      "text/plain": [
       "0.9245"
      ]
     },
     "execution_count": 19,
     "metadata": {},
     "output_type": "execute_result"
    }
   ],
   "source": [
    "(np.log(softmax(X_test.dot(W_mnist)+b_mnist)).argmax(axis = 1) \\\n",
    " == Y_test.argmax(axis = 1)).mean()"
   ]
  },
  {
   "cell_type": "markdown",
   "metadata": {},
   "source": [
    "The model gives 92.45% correctly classified observations in the test data."
   ]
  },
  {
   "cell_type": "code",
   "execution_count": 21,
   "metadata": {},
   "outputs": [
    {
     "data": {
      "image/png": "[encoded data removed]",
      "text/plain": [
       "<Figure size 720x504 with 6 Axes>"
      ]
     },
     "metadata": {
      "needs_background": "light"
     },
     "output_type": "display_data"
    }
   ],
   "source": [
    "numbers_to_plot = [0,2,4,6,8,9]\n",
    "\n",
    "fig, axs = plt.subplots(2,3, figsize=(10, 7), edgecolor='k')\n",
    "fig.subplots_adjust(hspace = -0.2, wspace=.6)\n",
    "\n",
    "axs = axs.ravel()\n",
    "\n",
    "for i in range(len(numbers_to_plot)):\n",
    "    axs[i].imshow(W_mnist[:, numbers_to_plot[i]].reshape(28, 28), cmap = 'gray')\n",
    "    axs[i].set_title(str(numbers_to_plot[i]))\n",
    "for a in axs:\n",
    "    a.set_aspect('equal')"
   ]
  },
  {
   "cell_type": "markdown",
   "metadata": {},
   "source": [
    "In Fig. X I show the weight matricies corresponding to some of the numbers. These shows what pixels the model expects to be marked for the different numbers, aswell as what regions should not be marked. For example, the $0$ has a black oval shape in the middle, where any marks would lower the probability of $0$, whilst the model assigns high probability to the surrounding oval. The $8$ and $4$ matricies can also be picked up from the figures. The others are a little harder to make out."
   ]
  },
  {
   "cell_type": "markdown",
   "metadata": {},
   "source": [
    "## 2.2\n",
    "Our softmax classifier should now be extended to a fully connected neural network, allowing for the sigmoid and relu activation functions. My first component will be a layer class that is the basic building block of my network."
   ]
  },
  {
   "cell_type": "code",
   "execution_count": 23,
   "metadata": {},
   "outputs": [],
   "source": [
    "class Layer:\n",
    "    \"\"\"\n",
    "    Building block. Can process input to get output and\n",
    "    propagate gradients through itself. \n",
    "    \"\"\"\n",
    "    def __init__(self,):\n",
    "        pass\n",
    "\n",
    "    def forward(self, input):\n",
    "        \"\"\"\n",
    "        Dummy layer, takes input of shape [batch, input_units] returns\n",
    "        [batch, output_units]\n",
    "        \"\"\"\n",
    "        return input\n",
    "    \n",
    "    def backward(self, input, grad_output):\n",
    "        \"\"\"\n",
    "        Performs backprop step through layer wrt given input\n",
    "        \"\"\"\n",
    "        num_units = input.shape[1]\n",
    "        \n",
    "        d_layer_d_input = np.eye(num_units)\n",
    "        \n",
    "        return np.dot(grad_output, d_layer_d_input) # chain rule"
   ]
  },
  {
   "cell_type": "markdown",
   "metadata": {},
   "source": [
    "I will then consider the relu and sigmoid layers as subclasses of the Layer class."
   ]
  },
  {
   "cell_type": "code",
   "execution_count": 24,
   "metadata": {},
   "outputs": [],
   "source": [
    "class ReLU(Layer):\n",
    "    \"\"\"\n",
    "    Forward and backpropagation for relu function\n",
    "    \"\"\"\n",
    "    def __init__(self):\n",
    "        pass\n",
    "    \n",
    "    def forward(self, input):\n",
    "        relu_forward = np.maximum(0, input)\n",
    "        return relu_forward\n",
    "    \n",
    "    def backward(self, input, grad_output):\n",
    "        # computes the gradient of cross entropy loss\n",
    "        # wrt relu input\n",
    "        relu_grad = input > 0\n",
    "        # hadamard prod\n",
    "        return grad_output * relu_grad\n",
    "\n",
    "class Sigmoid(Layer):\n",
    "    \"\"\"\n",
    "    Forward and backpropagation for the sigmoid function\n",
    "    \"\"\"\n",
    "    def __init__(self):\n",
    "        pass\n",
    "    \n",
    "    def forward(self, input):\n",
    "        sigmoid_forward = 1/(1+np.exp(-input))\n",
    "        return sigmoid_forward\n",
    "    \n",
    "    def backward(self, input, grad_output):\n",
    "        h = self.forward(input)\n",
    "        sigmoid_grad = h * (1 - h)\n",
    "        # hadamard prod\n",
    "        return grad_output * sigmoid_grad"
   ]
  },
  {
   "cell_type": "markdown",
   "metadata": {},
   "source": [
    "And now the class that will do the heavy lifting of estimation."
   ]
  },
  {
   "cell_type": "code",
   "execution_count": 25,
   "metadata": {},
   "outputs": [],
   "source": [
    "class ConnectedLayer(Layer):\n",
    "    \"\"\"\n",
    "    This class is the fully connected layer that updates the parameters\n",
    "    \"\"\"\n",
    "    def __init__(self, input_units, output_units, step_size = 0.01):\n",
    "        self.step_size = step_size\n",
    "        self.weights = np.random.normal(loc = 0, scale = .01,\n",
    "                                       size = (input_units, output_units))\n",
    "        self.offsets = np.zeros(output_units)\n",
    "    \n",
    "    def forward(self, input):\n",
    "        \"\"\"\n",
    "        Perform affine transformation\n",
    "        \"\"\"\n",
    "        return input.dot(self.weights) + self.offsets\n",
    "    \n",
    "    def backward(self, input, grad_output):\n",
    "        \"\"\"\n",
    "        Calculates the necessary components in the backprop pseudo-code\n",
    "        outlined in L3\n",
    "        \"\"\"\n",
    "        grad_input = grad_output.dot(self.weights.T)\n",
    "        grad_weights = input.T.dot(grad_output)\n",
    "        grad_offsets = grad_output.mean(axis = 0) * input.shape[0]\n",
    "        \n",
    "        # make sure nothing has gone wrong\n",
    "        assert grad_weights.shape == self.weights.shape, \\\n",
    "            \"grad_weights.shape = {}, weights.shape = {}\".format(\n",
    "            grad_weights.shape, self.weights.shape)\n",
    "        \n",
    "        assert grad_offsets.shape == self.offsets.shape, \\\n",
    "            \"grad_offsets.shape = {}, offsets.shape = {}\".format(\n",
    "            grad_offsets.shape, self.offsets.shape)\n",
    "        \n",
    "        # update parameters\n",
    "        self.weights -= self.step_size * grad_weights\n",
    "        self.offsets -= self.step_size * grad_offsets\n",
    "        \n",
    "        return grad_input"
   ]
  },
  {
   "cell_type": "markdown",
   "metadata": {},
   "source": [
    "I will now create the methods that utilizes the `Layer` class to perform the estimation of the parameters. The train method below is similar to the one used in exercise 2.1 but now I will do the mini-batching outside the actual train method."
   ]
  },
  {
   "cell_type": "code",
   "execution_count": 41,
   "metadata": {},
   "outputs": [],
   "source": [
    "def forward(network, X):\n",
    "    \"\"\"\n",
    "    Forward propagation\n",
    "    \"\"\"\n",
    "    activations = []\n",
    "    input = X\n",
    "    \n",
    "    for l in network:\n",
    "        activations.append(l.forward(input))\n",
    "        input = activations[-1]\n",
    "    \n",
    "    assert len(activations) == len(network), \\\n",
    "        \"len(activations) = {}, len(network) = {}\".format(\n",
    "        len(activations), len(network))\n",
    "    \n",
    "    return activations\n",
    "\n",
    "def compute_results(network, X, y):\n",
    "    \"\"\"\n",
    "    Computes cost and accuracy for the network in its \n",
    "    current state\n",
    "    \"\"\"\n",
    "    logits = forward(network, X)[-1]\n",
    "    probs = softmax(logits)\n",
    "    # compute accuracy...\n",
    "    accuracy = np.mean(probs.argmax(axis = 1) == np.argmax(y, axis = 1))\n",
    "    # ...and cost\n",
    "    cost = softmax_loss(logits, y)\n",
    "    return accuracy, cost\n",
    "\n",
    "def predict(logits, y):\n",
    "    probs = softmax(logits)\n",
    "    accuracy = np.mean(probs.argmax(axis = 1) == np.argmax(y, axis = 1))\n",
    "    return accuracy\n",
    "\n",
    "def train(network, X, y):\n",
    "    \"\"\"\n",
    "    Trains the network for a given batch. Note that in the assignment\n",
    "    the accuracy is to be evaluated on the current minibatch so \n",
    "    this method returns the logits. Note that these correspond\n",
    "    to the logits of the previous iteration! \n",
    "    \"\"\"\n",
    "    # get layer activations\n",
    "    layer_activations = forward(network, X)\n",
    "    layer_inputs = [X] + layer_activations\n",
    "    logits = layer_activations[-1]\n",
    "    \n",
    "    # loss and the softmax gradient (first exercise)\n",
    "    loss = softmax_loss(logits, y)\n",
    "    loss_grad = grad_softmax_loss(logits, y)\n",
    "    \n",
    "    # backpropagation through the network\n",
    "    for layer_index in range(len(network))[::-1]:\n",
    "        layer = network[layer_index]\n",
    "        loss_grad = layer.backward(layer_inputs[layer_index], loss_grad)"
   ]
  },
  {
   "cell_type": "markdown",
   "metadata": {},
   "source": [
    "With that, I will create a neural network with two hidden layers, the first one utilizing a relu activation function with 50 nodes, and the second one having the sigmoid function with 100 nodes. "
   ]
  },
  {
   "cell_type": "code",
   "execution_count": 44,
   "metadata": {},
   "outputs": [],
   "source": [
    "network = []\n",
    "network.append(ConnectedLayer(X_train.shape[1], 50))\n",
    "network.append(ReLU())\n",
    "network.append(ConnectedLayer(50, 100))\n",
    "network.append(Sigmoid())\n",
    "network.append(ConnectedLayer(100, Y_train.shape[1]))\n",
    "\n",
    "train_MNIST_cost = []\n",
    "test_MNIST_cost = []\n",
    "train_MNIST_accuracy = []\n",
    "test_MNIST_accuracy = []\n",
    "\n",
    "for epoch in range(100):\n",
    "    batches = mini_batches(X_train, Y_train)\n",
    "    for batch in batches:\n",
    "        train(network, batch[0], batch[1])\n",
    "    \n",
    "    logits_train = forward(network, X_train)[-1]\n",
    "    # this is my interpretation of \"current batch\"\n",
    "    logits_batch = forward(network, batches[-1][0])[-1]\n",
    "    logits_test = forward(network, X_test)[-1]\n",
    "    \n",
    "    # train accuracy and cost, the latter should be evaluated \n",
    "    # on the \"current mini-batch\", which I interpret as the last one\n",
    "    # in the list of batches\n",
    "    train_MNIST_accuracy.append(predict(logits_batch, batches[-1][1]))\n",
    "    train_MNIST_cost.append(softmax_loss(logits_train, Y_train))\n",
    "    \n",
    "    test_MNIST_accuracy.append(predict(logits_test, Y_test))\n",
    "    test_MNIST_cost.append(softmax_loss(logits_test, Y_test))"
   ]
  },
  {
   "cell_type": "code",
   "execution_count": 45,
   "metadata": {},
   "outputs": [
    {
     "data": {
      "text/plain": [
       "0.9766"
      ]
     },
     "execution_count": 45,
     "metadata": {},
     "output_type": "execute_result"
    }
   ],
   "source": [
    "test_MNIST_accuracy[-1]"
   ]
  },
  {
   "cell_type": "markdown",
   "metadata": {},
   "source": [
    "The network achieves 97.78% correctly classified observations in the test data with 100 iterations and a step-size of $0.01$"
   ]
  },
  {
   "cell_type": "code",
   "execution_count": 46,
   "metadata": {},
   "outputs": [
    {
     "data": {
      "image/png": "[encoded data removed]",
      "text/plain": [
       "<Figure size 432x288 with 1 Axes>"
      ]
     },
     "metadata": {
      "needs_background": "light"
     },
     "output_type": "display_data"
    }
   ],
   "source": [
    "plt.plot(train_MNIST_cost, label = \"train cost\")\n",
    "plt.plot(test_MNIST_cost, label = \"test cost\")\n",
    "plt.legend(loc = \"best\")\n",
    "plt.grid()\n",
    "plt.show()"
   ]
  },
  {
   "cell_type": "markdown",
   "metadata": {},
   "source": [
    "I find the above plot a little odd, as the test cost is actually increasing. But I'm able to achieve around 98% correct classification. This behaviour on the test data is not showing on the accuracy. "
   ]
  },
  {
   "cell_type": "code",
   "execution_count": 47,
   "metadata": {},
   "outputs": [
    {
     "data": {
      "image/png": "[encoded data removed]",
      "text/plain": [
       "<Figure size 432x288 with 1 Axes>"
      ]
     },
     "metadata": {
      "needs_background": "light"
     },
     "output_type": "display_data"
    }
   ],
   "source": [
    "plt.plot(train_MNIST_accuracy, label = \"train accuracy\")\n",
    "plt.plot(test_MNIST_accuracy, label = \"test accuracy\")\n",
    "plt.legend(loc = \"best\")\n",
    "plt.grid()\n",
    "plt.show()"
   ]
  },
  {
   "cell_type": "code",
   "execution_count": null,
   "metadata": {},
   "outputs": [],
   "source": []
  }
 ],
 "metadata": {
  "kernelspec": {
   "display_name": "Python 3",
   "language": "python",
   "name": "python3"
  },
  "language_info": {
   "codemirror_mode": {
    "name": "ipython",
    "version": 3
   },
   "file_extension": ".py",
   "mimetype": "text/x-python",
   "name": "python",
   "nbconvert_exporter": "python",
   "pygments_lexer": "ipython3",
   "version": "3.7.0"
  }
 },
 "nbformat": 4,
 "nbformat_minor": 2
}
