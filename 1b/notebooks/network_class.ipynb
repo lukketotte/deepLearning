{
 "cells": [
  {
   "cell_type": "code",
   "execution_count": 1,
   "metadata": {},
   "outputs": [],
   "source": [
    "import numpy as np"
   ]
  },
  {
   "cell_type": "code",
   "execution_count": 204,
   "metadata": {},
   "outputs": [],
   "source": [
    "class Network:\n",
    "    \"\"\"\n",
    "    Network class used to solve the second exercise of assignment 1b.\n",
    "    \n",
    "    Arguments\n",
    "    ---------\n",
    "    sizes: list. First entry should be the # of variables in X, last entry \n",
    "        should be the number of classes to predict. \n",
    "    \"\"\"\n",
    "    def __init__(self, sizes, activation_fun):\n",
    "        \"\"\"\n",
    "        num_layers : int, number of layers in the network, not including the input\n",
    "        b : [np.array]\n",
    "        W : [np.array]\n",
    "        activation_fun : str or [str], specifies the activation functions to be used\n",
    "            in each layer of the network. AssertionError if the num_layers != len(.)\n",
    "        \"\"\"\n",
    "        self.num_layers = len(sizes) - 1\n",
    "        self.sizes = sizes\n",
    "        self.b = [np.random.rand(y, 1)*.1 for y in sizes[1:]]\n",
    "        self.W = [np.random.randn(y, x)*.1 for x, y in zip(sizes[:-1], sizes[1:])]\n",
    "        if len(sizes) > 2 and isinstance(activation_fun, str):\n",
    "            self.activation_fun = [activation_fun] * self.num_layers\n",
    "        elif isinstance(activation_fun, list):\n",
    "            self.activation_fun = activation_fun\n",
    "            assert(len(activation_fun) == len(sizes) - 2)\n",
    "        elif len(sizes) == 1 and isinstance(activation_fun, str):\n",
    "            self.activation_fun = [activation_fun]\n",
    "            \n",
    "    ### Methods for the activation functions ###\n",
    "    def sigmoid(self, z):\n",
    "        return 1/(1+np.exp(-z))\n",
    "    \n",
    "    def relu(self, z):\n",
    "        return np.maximum(z, 0)\n",
    "    \n",
    "    def softmax(self, z):\n",
    "        \"\"\"\n",
    "        Uses stabilization by subtracting the max in the exponent\n",
    "        \"\"\"\n",
    "        s = np.max(z, axis=1).reshape(z.shape[0], 1)\n",
    "        e_x = np.exp(z - s)\n",
    "        return e_x / np.sum(e_x, axis=1).reshape(z.shape[0], 1)\n",
    "    \n",
    "    ###  forward propagation ###\n",
    "    def linear_forward(self, h_prev, W, b):\n",
    "        \"\"\"\n",
    "        Computes the linear transformation at layer l\n",
    "        \n",
    "        Arguments\n",
    "        ---------\n",
    "        \n",
    "        \"\"\"\n",
    "        return h_prev.dot(W.T) + b.T\n",
    "    \n",
    "    def activation_forward(self, h_prev, W, b, activation_fun):\n",
    "        if activation_fun == \"sigmoid\":\n",
    "            Z = self.linear_forward(h_prev, W, b)\n",
    "            h = self.sigmoid(Z)\n",
    "        \n",
    "        elif activation_fun == \"relu\":\n",
    "            Z = self.linear_forward(h_prev, W, b)\n",
    "            h = self.relu(Z)\n",
    "            \n",
    "        elif activation_fun == \"softmax\":\n",
    "            Z = self.linear_forward(h_prev, W, b)\n",
    "            h = self.softmax(Z)\n",
    "            \n",
    "        return h, Z\n",
    "    \n",
    "    def model_forward(self, X):\n",
    "        activation_cache = [X]\n",
    "        z_cache = []\n",
    "        \n",
    "        # i = 1, ... , L-1\n",
    "        for i in range(self.num_layers-1):\n",
    "            h_new, z_new = self.activation_forward(\n",
    "                activation_cache[i], self.W[i], self.b[i], self.activation_fun[i])\n",
    "            activation_cache.append(h_new)\n",
    "            z_cache.append(z_new)\n",
    "        \n",
    "        # output layer\n",
    "        h_L, z_L = self.activation_forward(activation_cache[-1], self.W[-1], self.b[-1], \"softmax\")\n",
    "        activation_cache.append(h_L)\n",
    "        z_cache.append(z_L)\n",
    "        \n",
    "        return activation_cache, z_cache\n",
    "    \n",
    "    ### Derivatives used ###\n",
    "    def cost_derivative(self, h_L, y):\n",
    "        \"\"\"\n",
    "        Based on the calculated derivative of the cross-entropy cross function\n",
    "        \n",
    "        Arguments\n",
    "        h_L : np.array, final element of activation_cache\n",
    "        y : np.array, one-hot encoded classes\n",
    "        \"\"\"\n",
    "        return h_L - y\n",
    "    \n",
    "    def sigmoid_grad(self, z):\n",
    "        \"\"\"\n",
    "        Compute gradient of sigmoid function wrt to the input\n",
    "        \n",
    "        Arguments\n",
    "        z : np.array, linear transformation of the previous layers output\n",
    "        \"\"\"\n",
    "        h = self.sigmoid(z)\n",
    "        return h * (1-h)\n",
    "    \n",
    "    def relu_grad(self, z):\n",
    "        \"\"\"\n",
    "        Compute gradient of relu function wrt to the input\n",
    "        \n",
    "        Arguments\n",
    "        z : np.array, linear transformation of the previous layers output\n",
    "        \"\"\"\n",
    "        h = self.relu(z)\n",
    "        return np.int64(h > 0)\n",
    "    \n",
    "    def softmax_grad(self, z):\n",
    "        \"\"\"\n",
    "        I'm finding this one a little hard to grasp as it should techniqually be a Jacobian?\n",
    "        \"\"\"\n",
    "        h = self.softmax(z)\n",
    "        return h * (1-h)\n",
    "        "
   ]
  },
  {
   "cell_type": "code",
   "execution_count": 205,
   "metadata": {},
   "outputs": [],
   "source": [
    "X = np.array([1,2,-2,2,3,4,5,6,2,-2,-1,2]).reshape(4,3)\n",
    "y = np.array([0,1,0,1,0,0,0,0,1,0,1,0]).reshape(4,3)\n",
    "\n",
    "test = Network([X.shape[1], 2, y.shape[1]], \"sigmoid\")"
   ]
  },
  {
   "cell_type": "code",
   "execution_count": 206,
   "metadata": {},
   "outputs": [],
   "source": [
    "h, z = test.model_forward(X)"
   ]
  },
  {
   "cell_type": "code",
   "execution_count": 212,
   "metadata": {},
   "outputs": [
    {
     "data": {
      "text/plain": [
       "array([[0.34330207, 0.33999464, 0.3167033 ],\n",
       "       [0.34086611, 0.34533241, 0.31380148],\n",
       "       [0.34181393, 0.34408128, 0.31410479],\n",
       "       [0.34149434, 0.34306342, 0.31544224]])"
      ]
     },
     "execution_count": 212,
     "metadata": {},
     "output_type": "execute_result"
    }
   ],
   "source": [
    "h[-1]"
   ]
  },
  {
   "cell_type": "code",
   "execution_count": null,
   "metadata": {},
   "outputs": [],
   "source": []
  }
 ],
 "metadata": {
  "kernelspec": {
   "display_name": "Python 3",
   "language": "python",
   "name": "python3"
  },
  "language_info": {
   "codemirror_mode": {
    "name": "ipython",
    "version": 3
   },
   "file_extension": ".py",
   "mimetype": "text/x-python",
   "name": "python",
   "nbconvert_exporter": "python",
   "pygments_lexer": "ipython3",
   "version": "3.6.5"
  }
 },
 "nbformat": 4,
 "nbformat_minor": 2
}
