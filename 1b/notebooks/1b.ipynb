{
 "cells": [
  {
   "cell_type": "markdown",
   "metadata": {},
   "source": [
    "# Assignment 1b"
   ]
  },
  {
   "cell_type": "code",
   "execution_count": 1,
   "metadata": {},
   "outputs": [],
   "source": [
    "from sklearn.datasets import load_iris\n",
    "import matplotlib.pyplot as plt\n",
    "import numpy as np\n",
    "import pandas as pd\n",
    "import timeit\n",
    "import matplotlib.pyplot as plt\n",
    "\n",
    "%matplotlib inline\n",
    "plt.rcParams['figure.figsize'] = (7,5)"
   ]
  },
  {
   "cell_type": "code",
   "execution_count": 10,
   "metadata": {},
   "outputs": [],
   "source": [
    "class log_reg:\n",
    "    \"\"\"\n",
    "    link_function: specifies the link function. Possible values are\n",
    "                   \"sigmoid\" and \"softmax\"\n",
    "    \n",
    "    batch_size: int. Specify the sample size of each bin. Uses np.array_split to avoid\n",
    "                exception due to not even split possible.  Set to None to avoid it.\n",
    "                   \n",
    "    note: working under the assumption that the rows and columns of\n",
    "          the data corresponds to observations and variables respectively\n",
    "    \"\"\"\n",
    "    def __init__(self, step_size = 0.01, epochs = 10000, random_init = False, \n",
    "                activation_function = \"sigmoid\", batch_size = None):\n",
    "        self.step_size = step_size\n",
    "        self.epochs = epochs\n",
    "        self.random_init = random_init\n",
    "        self.activation_function = activation_function\n",
    "        self.batch_size = batch_size\n",
    "        \n",
    "    def sigmoid(self, z):\n",
    "        return 1/(1+np.exp(-z))\n",
    "    \n",
    "    def softmax(self, z):\n",
    "        \"\"\"\n",
    "        Using normalization as done here\n",
    "        https://timvieira.github.io/blog/post/2014/02/11/exp-normalize-trick/\n",
    "        \"\"\"\n",
    "        s = np.max(z, axis=1).reshape(z.shape[0], 1)\n",
    "        e_x = np.exp(z - s)\n",
    "        div = np.sum(e_x, axis=1).reshape(z.shape[0], 1)\n",
    "        return e_x / div\n",
    "    \n",
    "    def loss(self, p, y):\n",
    "        if np.size(y.shape) == 1:\n",
    "            # y has been supplied as 1d array\n",
    "            return (-y * np.log(p) - (1-y) * np.log(1-p)).mean()\n",
    "        else:\n",
    "            # if y is 2d, the loss function can ge used for K = 2 also\n",
    "            return (-1 / y.shape[0]) * np.sum(y * np.log(p))\n",
    "            \n",
    "    def add_intercept(self, X):\n",
    "        intercept = np.ones((X.shape[0], 1))\n",
    "        return np.concatenate((intercept, X), axis = 1)\n",
    "    \n",
    "    def undo_one_hot(self, y):\n",
    "        \"\"\"\n",
    "        Undoes one-hot-encoding of target vector\n",
    "        to calculate prediction accuracy\n",
    "        \"\"\"\n",
    "        return np.argmax(y, axis  = 1)\n",
    "        \n",
    "    def fit(self, X, y):\n",
    "        # add an intercept for the b term\n",
    "        X = self.add_intercept(X)\n",
    "        \n",
    "        # initialize the weight matrix\n",
    "        k = y.shape[1]\n",
    "        if self.random_init:\n",
    "            self.w = np.random.normal(0, .01, k * X.shape[1]).reshape(X.shape[1], k)\n",
    "        else:\n",
    "            self.w = np.zeros(k * X.shape[1]).reshape(X.shape[1], k)\n",
    "        \n",
    "        # take into account the batch size, will create a split either way\n",
    "        # but if batch_size is None then it will be a list of one element\n",
    "        if self.batch_size is None:\n",
    "            X_list = np.array_split(X, np.round(X.shape[0]/X.shape[0]))\n",
    "            y_list = np.array_split(y, np.round(X.shape[0]/X.shape[0]))\n",
    "        elif self.batch_size is not None:\n",
    "            X_list = np.array_split(X, np.round(X.shape[0]/self.batch_size))\n",
    "            y_list = np.array_split(y, np.round(X.shape[0]/self.batch_size))\n",
    "        \n",
    "        #  model fitting\n",
    "        for i in range(self.epochs):\n",
    "            gradient = 0\n",
    "            for j in range(len(X_list)):\n",
    "                z = X_list[j].dot(self.w)\n",
    "            \n",
    "                # activation function\n",
    "                if self.activation_function.lower() == \"sigmoid\":\n",
    "                    p = self.sigmoid(z)\n",
    "                else:\n",
    "                    p = self.softmax(z)\n",
    "                \n",
    "            # compute the gradient for batch j\n",
    "                gradient +=  X_list[j].T.dot(p - y_list[j]) / X.shape[0]\n",
    "            # update the weight matrix\n",
    "            self.w -= self.step_size * gradient     \n",
    "            \n",
    "            # update and compute loss\n",
    "            z = np.dot(X, self.w)\n",
    "            # not very efficient\n",
    "            if self.activation_function.lower() == \"sigmoid\":\n",
    "                p = self.sigmoid(z)\n",
    "            else:\n",
    "                p = self.softmax(z)\n",
    "            loss = self.loss(p, y)\n",
    "    \n",
    "    def predict(self, X, p_cutoff = .5):\n",
    "        X = self.add_intercept(X)\n",
    "        predicted_prob = self.sigmoid(np.dot(X, self.w))\n",
    "        return predicted_prob >= p_cutoff"
   ]
  },
  {
   "cell_type": "markdown",
   "metadata": {},
   "source": [
    "The log_reg class is what I used in assignment 1a."
   ]
  },
  {
   "cell_type": "markdown",
   "metadata": {},
   "source": [
    "## Exercise 2.1\n",
    "We are now looking at the multinomial distribution with $K$ possible outcomes. That is, our data is of the form $\\{\\mathbf{x}_i, y_i\\}_{i=1}^n$ where $y_i \\in \\{1, \\ldots, K\\}$. \n",
    "\n",
    "For this end, I will use the softmax function which is defined as\n",
    "$$\n",
    "p_i^{(k)} = \\frac{\\exp\\left\\{ \\mathbf{w}_{(k)}^T \\mathbf{x}_i + b\\right\\}}{\\sum_{j=1}^K\\exp\\left\\{ \\mathbf{w}_{(j)}^T \\mathbf{x}_i + b \\right\\}},\n",
    "$$\n",
    "where $p_i^{(k)} = P(\\mathbf{y}_{(i)} = k| \\mathbf{x}_i, \\mathbf{w})$, and $\\mathbf{w}$ is now $p \\times K$. This means that\n",
    "$$\n",
    "p_i = \\frac{1}{\\sum_{j=1}^K\\exp\\left\\{ \\mathbf{w}_{(j)}^T \\mathbf{x}_i + b \\right\\}} \n",
    "\\begin{bmatrix} \\exp\\{\\mathbf{w}^T_{(1)}\\mathbf{x}_i\\} \\\\ \\vdots \\\\\n",
    "\\exp\\{\\mathbf{w}^T_{(K)}\\mathbf{x}_i\\}\n",
    "\\end{bmatrix}\n",
    "$$\n",
    "\n",
    "The cross entropy loss, with the softmax activation (correct word?) function is then\n",
    "$$\n",
    "J = - \\frac{1}{n} \\sum_{i=1}^n L_i = - \\frac{1}{n} \\sum_{i=1}^n \\sum_{k = 1}^K y_{ik} \\log p_i^{(k)},\n",
    "$$\n",
    "which simplifies to the cost function of assignment 1a with $K = 2$. It should also be noted that I will treat $\\mathbf{y}$ as a $n\\times K$ matrix where each row has one $1$ and the rest are zeroes, with the position of the $1$ corresponding to class adherence of that observation."
   ]
  },
  {
   "cell_type": "markdown",
   "metadata": {},
   "source": [
    "Consider the derivative of $p_i^{(k)}$, whilst dropping the intercept as it will be accounted for by inserting a column of ones into $\\mathbf{X}$,\n",
    "$$\n",
    "\\begin{aligned}\n",
    "\\frac{\\partial p_i^{(k)}}{\\partial \\mathbf{w}_k} &= \\frac{\\partial}{\\partial \\mathbf{w}_k}\\frac{\\exp\\left\\{ \\mathbf{w}_k^T \\mathbf{x}_i\\right\\}}{\\sum_{j=1}^K\\exp\\left\\{ \\mathbf{w}_j^T \\mathbf{x}_i\\right\\}} = \\mathbf{x}_i \\frac{\\exp\\left\\{ \\mathbf{w}_k^T \\mathbf{x}_i\\right\\}}{\\sum_{j=1}^K \\exp\\left\\{ \\mathbf{w}_j^T \\mathbf{x}_i\\right\\}} - \\mathbf{x}_i \\left(\\frac{\\exp\\left\\{ \\mathbf{w}_k^T \\mathbf{x}_i\\right\\}}{\\sum_{j=1}^K \\exp\\left\\{ \\mathbf{w}_j^T \\mathbf{x}_i\\right\\}}\\right)^2 = \\mathbf{x}_i\\ p_i^{(k)}\\big(1-p_i^{(k)}\\big),\n",
    "\\end{aligned}\n",
    "$$\n",
    "and\n",
    "$$\n",
    "\\begin{aligned}\n",
    "\\frac{\\partial p_i^{(k)}}{\\partial \\mathbf{w}_l} = \\exp\\left\\{ \\mathbf{w}_k^T \\mathbf{x}_i\\right\\} \\frac{\\partial}{\\partial \\mathbf{w}_l} \\frac{1}{\\sum_{j=1}^K \\exp\\left\\{ \\mathbf{w}_j^T \\mathbf{x}_i\\right\\}} = \\exp\\left\\{ \\mathbf{w}_k^T \\mathbf{x}_i\\right\\} \\left( - \\mathbf{x}_i\\frac{\\exp\\left\\{ \\mathbf{w}_l^T \\mathbf{x}_i\\right\\}}{\\left(\\sum_{j=1}^K \\exp\\left\\{ \\mathbf{w}_j^T \\mathbf{x}_i\\right\\}\\right)^2} \\right) = -\\mathbf{x}_i p_i^{(k)}p_i^{(l)}\n",
    "\\end{aligned}\n",
    "$$"
   ]
  },
  {
   "cell_type": "markdown",
   "metadata": {},
   "source": [
    "Taking the derivative of $L_i$ wrt to $\\mathbf{w}_l$ gives\n",
    "$$\n",
    "\\begin{aligned}\n",
    "\\frac{\\partial L_i}{\\partial\\mathbf{w}_l} &=- \\frac{\\partial}{\\partial \\mathbf{w}_l} \\sum_{k=1}^K y_{ik}\\log p^{(k)}_i = - \\sum_{k=1}^K y_{ik} \\frac{1}{ p^{(k)}_i} \\frac{\\partial}{\\partial \\mathbf{w}_l} p^{(k)}_i = - x_i \\frac{y_{il}}{p_i^{(k)}}p_i^{(k)}(1-p_i^{(l)}) + \\sum_{k \\neq l} x_i \\frac{y_{ik}}{p_i^{(k)}}p_i^{(k)}p_i^{(l)} \\\\\n",
    "&= - x_i y_{il}\\big(1-p_i^{(l)} \\big) + x_i\\sum_{k\\neq l}y_{ik}p_i^{(l)} = x_i \\left( \\sum_{k\\neq l}y_{ik}p_i^{(l)} -  y_{il}\\big(1-p_i^{(l)} \\big) \\right) = x_i \\big(p_i^{(l)} - y_{il} \\big),\n",
    "\\end{aligned}\n",
    "$$\n",
    "where the last step follows from the one hot encoding of $\\mathbf{y}_i$."
   ]
  },
  {
   "cell_type": "markdown",
   "metadata": {},
   "source": [
    "The derivative of the entropy loss wrt $\\mathbf{w}_l$ is then\n",
    "$$\n",
    "\\begin{aligned}\n",
    "\\frac{\\partial J}{\\partial \\mathbf{w}_l} = \\frac{1}{n} \\sum_{i = 1}^n \\frac{\\partial}{\\partial \\mathbf{w}_l} L_i = \\frac{1}{n} \\sum_{i = 1} \\mathbf{x}_i \\big( p_i^{(l)} - y_{il} \\big)\n",
    "\\end{aligned}\n",
    "$$"
   ]
  },
  {
   "cell_type": "markdown",
   "metadata": {},
   "source": [
    "Leading to the update step\n",
    "$$\n",
    "\\mathbf{w}_k^{new} = \\mathbf{w}_k^{old} - \\eta \\frac{1}{n}\\sum_{i=1}^n \\mathbf{x}_i\\big(p_i^{(l)} - y_{il}\\big)\n",
    "$$"
   ]
  },
  {
   "cell_type": "code",
   "execution_count": 5,
   "metadata": {},
   "outputs": [],
   "source": [
    "def softmax(z):\n",
    "    \"\"\"\n",
    "    Using normalization as done here\n",
    "    https://timvieira.github.io/blog/post/2014/02/11/exp-normalize-trick/\n",
    "    \"\"\"\n",
    "    s = np.max(z, axis=1).reshape(z.shape[0], 1)\n",
    "    e_x = np.exp(z - s)\n",
    "    div = np.sum(e_x, axis=1).reshape(z.shape[0], 1)\n",
    "    return e_x / div"
   ]
  },
  {
   "cell_type": "code",
   "execution_count": 36,
   "metadata": {},
   "outputs": [],
   "source": [
    "# test on simulated data\n",
    "np.random.seed(123)\n",
    "mean_vec = [1, 5, 3]\n",
    "cov_mat = np.diag([2.2, 15.3, 82.5])\n",
    "n = 500\n",
    "# X is 100 x 3\n",
    "X = np.random.multivariate_normal(mean_vec, cov_mat, n)\n",
    "# coef matrix is 3 x K, so how many K?\n",
    "K = 4\n",
    "# w = np.linspace(1,12, 12).reshape(X.shape[1], K)\n",
    "w = np.random.normal(size = K * X.shape[1]).reshape(X.shape[1], K)\n",
    "# returns n x K, the P matrix\n",
    "p = softmax(X.dot(w))\n",
    "# have to generate data by some for loop as the p values\n",
    "# supplied to np.rand.multinomial has to be 1d\n",
    "y = np.zeros([n, K])\n",
    "for i in range(n):\n",
    "    y[i,:] = np.random.multinomial(1, p[i, :], size = 1)"
   ]
  },
  {
   "cell_type": "markdown",
   "metadata": {},
   "source": [
    "The update step, in matrix form is \n",
    "$$\n",
    "\\mathbf{w}^{new} = \\mathbf{w}^{old} - \\eta\\ \\nabla_\\mathbf{w}\\ J,\n",
    "$$\n",
    "where $\\nabla_\\mathbf{w}\\ J$ is,\n",
    "$$\n",
    "\\begin{aligned}\n",
    "\\nabla_\\mathbf{w}\\ J = \\frac{1}{n}\\; \\underset{p \\times n}{\\mathbf{X}^T}\\left(\\underset{n \\times K}{\\mathbf{p}} - \\underset{n \\times K}{\\mathbf{y}} \\right)\n",
    "\\end{aligned}\n",
    "$$\n"
   ]
  },
  {
   "cell_type": "code",
   "execution_count": 95,
   "metadata": {},
   "outputs": [],
   "source": [
    "# perform one update step\n",
    "gradient = X.T.dot(p - y) / X.shape[0]"
   ]
  },
  {
   "cell_type": "code",
   "execution_count": 96,
   "metadata": {},
   "outputs": [],
   "source": [
    "w_train = np.zeros(X.shape[1] * K).reshape(X.shape[1], K)\n",
    "for i in range(1000):\n",
    "    p = softmax(X.dot(w_train))\n",
    "    gradient = X.T.dot(p - y) / X.shape[0]\n",
    "    w_train -= 0.01 * gradient\n",
    "\n",
    "loss = (-1 / X.shape[0]) * np.sum(y * np.log(p))"
   ]
  },
  {
   "cell_type": "code",
   "execution_count": 97,
   "metadata": {},
   "outputs": [
    {
     "data": {
      "text/plain": [
       "0.2723480831066777"
      ]
     },
     "execution_count": 97,
     "metadata": {},
     "output_type": "execute_result"
    }
   ],
   "source": [
    "loss"
   ]
  },
  {
   "cell_type": "code",
   "execution_count": 24,
   "metadata": {},
   "outputs": [],
   "source": [
    "def getProbsAndPreds(X, w):\n",
    "    probs = softmax(np.dot(X,w))\n",
    "    preds = np.argmax(probs,axis=1)\n",
    "    return probs,preds"
   ]
  },
  {
   "cell_type": "code",
   "execution_count": 139,
   "metadata": {},
   "outputs": [
    {
     "name": "stdout",
     "output_type": "stream",
     "text": [
      "accuracy =  0.89\n"
     ]
    }
   ],
   "source": [
    "_,preds = getProbsAndPreds(X, w_train)\n",
    "y_single = np.argmax(y, axis  = 1)\n",
    "\n",
    "print(\"accuracy = \", np.sum(preds == y_single)/n)\n",
    "# preds, y_single"
   ]
  },
  {
   "cell_type": "code",
   "execution_count": 142,
   "metadata": {},
   "outputs": [],
   "source": [
    "batch_size = 5\n",
    "# want to use array_split as it does not raise exception\n",
    "X_list = np.array_split(X, 3)"
   ]
  },
  {
   "cell_type": "code",
   "execution_count": 8,
   "metadata": {},
   "outputs": [
    {
     "name": "stdout",
     "output_type": "stream",
     "text": [
      "3.125 3.0\n"
     ]
    }
   ],
   "source": [
    "# possible to specify batch sample sizes?\n",
    "batch_size = 32\n",
    "print(X.shape[0]/batch_size, np.round(X.shape[0]/batch_size))"
   ]
  },
  {
   "cell_type": "code",
   "execution_count": 151,
   "metadata": {},
   "outputs": [],
   "source": [
    "X_list = np.array_split(X, np.round(X.shape[0]/batch_size))\n",
    "y_list = np.array_split(y, np.round(X.shape[0]/batch_size))"
   ]
  },
  {
   "cell_type": "code",
   "execution_count": 147,
   "metadata": {},
   "outputs": [
    {
     "data": {
      "text/plain": [
       "3"
      ]
     },
     "execution_count": 147,
     "metadata": {},
     "output_type": "execute_result"
    }
   ],
   "source": [
    "len(X_list)"
   ]
  },
  {
   "cell_type": "code",
   "execution_count": 154,
   "metadata": {},
   "outputs": [],
   "source": [
    "w_train = np.zeros(X.shape[1] * K).reshape(X.shape[1], K)\n",
    "for i in range(1000):\n",
    "    gradient = 0\n",
    "    for i in range(len(X_list)):\n",
    "        p = softmax(X_list[i].dot(w_train))\n",
    "        # compute the gradient sequentially\n",
    "        gradient += X_list[i].T.dot(p - y_list[i]) / X_list[i].shape[0]\n",
    "    w_train -= 0.01 * gradient\n",
    "\n",
    "loss = (-1 / X.shape[0]) * np.sum(y * np.log(softmax(X.dot(w_train))))"
   ]
  },
  {
   "cell_type": "code",
   "execution_count": 155,
   "metadata": {},
   "outputs": [
    {
     "data": {
      "text/plain": [
       "0.24836208718023237"
      ]
     },
     "execution_count": 155,
     "metadata": {},
     "output_type": "execute_result"
    }
   ],
   "source": [
    "loss"
   ]
  },
  {
   "cell_type": "code",
   "execution_count": 160,
   "metadata": {},
   "outputs": [
    {
     "data": {
      "text/plain": [
       "True"
      ]
     },
     "execution_count": 160,
     "metadata": {},
     "output_type": "execute_result"
    }
   ],
   "source": [
    "\"A\".lower() == \"a\""
   ]
  },
  {
   "cell_type": "markdown",
   "metadata": {},
   "source": [
    "Testing the log_reg class"
   ]
  },
  {
   "cell_type": "code",
   "execution_count": 37,
   "metadata": {},
   "outputs": [
    {
     "name": "stdout",
     "output_type": "stream",
     "text": [
      "4.113734000000008 1.6618567000000013\n"
     ]
    }
   ],
   "source": [
    "model = log_reg(step_size = .01, epochs = 10000, activation_function = \"softmax\", batch_size = 32)\n",
    "start_time = timeit.default_timer()\n",
    "model.fit(X, y)\n",
    "time_batch = timeit.default_timer() - start_time\n",
    "\n",
    "# no batch\n",
    "model_no_batch = log_reg(step_size = .01, epochs = 10000, activation_function = \"softmax\")\n",
    "start_time = timeit.default_timer()\n",
    "model_no_batch.fit(X, y)\n",
    "time_no_batch = timeit.default_timer() - start_time\n",
    "\n",
    "print(time_batch, time_no_batch)"
   ]
  },
  {
   "cell_type": "code",
   "execution_count": 30,
   "metadata": {},
   "outputs": [
    {
     "data": {
      "text/plain": [
       "(100, 4)"
      ]
     },
     "execution_count": 30,
     "metadata": {},
     "output_type": "execute_result"
    }
   ],
   "source": [
    "model.softmax(np.dot(X, w)).shape"
   ]
  },
  {
   "cell_type": "code",
   "execution_count": 31,
   "metadata": {},
   "outputs": [
    {
     "data": {
      "text/plain": [
       "array([[ 0.22624009,  1.35058611, -0.76981477, -0.80701143],\n",
       "       [ 0.57622081, -0.59522437, -1.2556304 ,  1.27463396],\n",
       "       [-0.89722548,  1.14645968, -0.95022873,  0.70099454],\n",
       "       [-0.45158178, -0.64663869,  0.91702401,  0.18119646]])"
      ]
     },
     "execution_count": 31,
     "metadata": {},
     "output_type": "execute_result"
    }
   ],
   "source": [
    "model.w"
   ]
  },
  {
   "cell_type": "code",
   "execution_count": 32,
   "metadata": {},
   "outputs": [
    {
     "name": "stdout",
     "output_type": "stream",
     "text": [
      "accuracy =  0.9\n"
     ]
    }
   ],
   "source": [
    "X_m = model.add_intercept(X)\n",
    "_,preds = getProbsAndPreds(X_m, model.w)\n",
    "y_single = np.argmax(y, axis  = 1)\n",
    "\n",
    "print(\"accuracy = \", np.sum(preds == y_single)/n)"
   ]
  },
  {
   "cell_type": "markdown",
   "metadata": {},
   "source": [
    "Code is working so far :)"
   ]
  },
  {
   "cell_type": "code",
   "execution_count": 17,
   "metadata": {},
   "outputs": [],
   "source": [
    "\n",
    "X_list = np.array_split(X, np.round(X.shape[0]/X.shape[0]))"
   ]
  },
  {
   "cell_type": "code",
   "execution_count": 18,
   "metadata": {},
   "outputs": [
    {
     "data": {
      "text/plain": [
       "1"
      ]
     },
     "execution_count": 18,
     "metadata": {},
     "output_type": "execute_result"
    }
   ],
   "source": [
    "len(X_list)"
   ]
  },
  {
   "cell_type": "code",
   "execution_count": 16,
   "metadata": {},
   "outputs": [
    {
     "data": {
      "text/plain": [
       "(100, 3)"
      ]
     },
     "execution_count": 16,
     "metadata": {},
     "output_type": "execute_result"
    }
   ],
   "source": [
    "X.shape"
   ]
  },
  {
   "cell_type": "markdown",
   "metadata": {},
   "source": [
    "## Task 2.1\n",
    "Now it is actually time to train the model on the digits data itself"
   ]
  },
  {
   "cell_type": "code",
   "execution_count": 5,
   "metadata": {},
   "outputs": [],
   "source": [
    "from scipy import misc\n",
    "import glob\n",
    "import os\n",
    "def load_mnist(path_to_MNIST):\n",
    "    # Loads the MNIST dataset from png images\n",
    " \n",
    "    NUM_LABELS = 10        \n",
    "    # create list of image objects\n",
    "    test_images = []\n",
    "    test_labels = []    \n",
    "    \n",
    "    for label in range(NUM_LABELS):\n",
    "        # the + str(label) didnt work for me\n",
    "        for image_path in glob.glob(os.path.join(path_to_MNIST, \"MNIST\\\\Test\", str(label) + \"\\\\*.png\")):\n",
    "            image = misc.imread(image_path)\n",
    "            test_images.append(image)\n",
    "            letter = [0 for _ in range(0,NUM_LABELS)]    \n",
    "            letter[label] = 1\n",
    "            test_labels.append(letter)  \n",
    "            \n",
    "    # create list of image objects\n",
    "    train_images = []\n",
    "    train_labels = []    \n",
    "    \n",
    "    for label in range(NUM_LABELS):\n",
    "        for image_path in glob.glob(os.path.join(path_to_MNIST, \"MNIST\\\\Train\", str(label) + \"\\\\*.png\")):\n",
    "            image = misc.imread(image_path)\n",
    "            train_images.append(image)\n",
    "            letter = [0 for _ in range(0,NUM_LABELS)]    \n",
    "            letter[label] = 1\n",
    "            train_labels.append(letter)                  \n",
    "            \n",
    "    X_train= np.array(train_images).reshape(-1,784)/255.0\n",
    "    Y_train= np.array(train_labels)\n",
    "    X_test= np.array(test_images).reshape(-1,784)/255.0\n",
    "    Y_test= np.array(test_labels)\n",
    "    \n",
    "    return X_train, Y_train, X_test, Y_test"
   ]
  },
  {
   "cell_type": "code",
   "execution_count": 6,
   "metadata": {},
   "outputs": [
    {
     "name": "stderr",
     "output_type": "stream",
     "text": [
      "C:\\Users\\lukar818\\AppData\\Local\\Continuum\\anaconda3\\lib\\site-packages\\ipykernel_launcher.py:16: DeprecationWarning: `imread` is deprecated!\n",
      "`imread` is deprecated in SciPy 1.0.0, and will be removed in 1.2.0.\n",
      "Use ``imageio.imread`` instead.\n",
      "  app.launch_new_instance()\n",
      "C:\\Users\\lukar818\\AppData\\Local\\Continuum\\anaconda3\\lib\\site-packages\\ipykernel_launcher.py:28: DeprecationWarning: `imread` is deprecated!\n",
      "`imread` is deprecated in SciPy 1.0.0, and will be removed in 1.2.0.\n",
      "Use ``imageio.imread`` instead.\n"
     ]
    }
   ],
   "source": [
    "data_list = load_mnist(\"C:\\\\Users\\\\lukar818\\\\Desktop\")"
   ]
  },
  {
   "cell_type": "code",
   "execution_count": 7,
   "metadata": {},
   "outputs": [
    {
     "data": {
      "image/png": "[encoded data removed]",
      "text/plain": [
       "<Figure size 432x288 with 1 Axes>"
      ]
     },
     "metadata": {},
     "output_type": "display_data"
    }
   ],
   "source": [
    "# check that all is bueno\n",
    "test = data_list[0][np.random.randint(low = 0, high = data_list[0].shape[0]), :]\n",
    "plt.imshow(test.reshape(28,28), cmap='gray')\n",
    "plt.show()"
   ]
  },
  {
   "cell_type": "code",
   "execution_count": 11,
   "metadata": {},
   "outputs": [],
   "source": [
    "model = log_reg(step_size = .01, epochs = 1000, activation_function = \"softmax\", batch_size = 32)\n",
    "model.fit(data_list[0], data_list[1])"
   ]
  },
  {
   "cell_type": "code",
   "execution_count": 15,
   "metadata": {},
   "outputs": [],
   "source": [
    "w = model.w.reshape(785, 10)"
   ]
  },
  {
   "cell_type": "code",
   "execution_count": 31,
   "metadata": {},
   "outputs": [
    {
     "data": {
      "image/png": "[encoded data removed]",
      "text/plain": [
       "<Figure size 432x288 with 1 Axes>"
      ]
     },
     "metadata": {},
     "output_type": "display_data"
    }
   ],
   "source": [
    "for i in range(10):\n",
    "    \n",
    "\n",
    "plt.imshow(w[1:, 9].reshape(28, 28), cmap = 'gray')\n",
    "plt.show()"
   ]
  },
  {
   "cell_type": "code",
   "execution_count": 17,
   "metadata": {},
   "outputs": [
    {
     "data": {
      "text/plain": [
       "784"
      ]
     },
     "execution_count": 17,
     "metadata": {},
     "output_type": "execute_result"
    }
   ],
   "source": [
    "28*28"
   ]
  },
  {
   "cell_type": "code",
   "execution_count": 38,
   "metadata": {},
   "outputs": [
    {
     "data": {
      "image/png": "[encoded data removed]",
      "text/plain": [
       "<Figure size 864x576 with 10 Axes>"
      ]
     },
     "metadata": {},
     "output_type": "display_data"
    }
   ],
   "source": [
    "fig, axs = plt.subplots(2,5, figsize=(12, 8), edgecolor='k')\n",
    "fig.subplots_adjust(hspace = .1, wspace=.3)\n",
    "\n",
    "axs = axs.ravel()\n",
    "\n",
    "for i in range(10):\n",
    "    axs[i].imshow(w[1:, i].reshape(28, 28), cmap = 'gray')\n",
    "    axs[i].set_title(str(i))"
   ]
  },
  {
   "cell_type": "code",
   "execution_count": null,
   "metadata": {},
   "outputs": [],
   "source": []
  }
 ],
 "metadata": {
  "kernelspec": {
   "display_name": "Python 3",
   "language": "python",
   "name": "python3"
  },
  "language_info": {
   "codemirror_mode": {
    "name": "ipython",
    "version": 3
   },
   "file_extension": ".py",
   "mimetype": "text/x-python",
   "name": "python",
   "nbconvert_exporter": "python",
   "pygments_lexer": "ipython3",
   "version": "3.6.5"
  }
 },
 "nbformat": 4,
 "nbformat_minor": 2
}
